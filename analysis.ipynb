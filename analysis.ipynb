{
 "cells": [
  {
   "cell_type": "code",
   "execution_count": 1,
   "id": "af3ffeb2-b9ef-4eb5-be42-71969701aed3",
   "metadata": {},
   "outputs": [],
   "source": [
    "from CPT.model import *\n",
    "from CPT.utils import *\n",
    "import matplotlib.pyplot as plt\n",
    "import seaborn as sns"
   ]
  },
  {
   "cell_type": "code",
   "execution_count": 2,
   "id": "cc301b76-6870-4545-968d-3781b4b8664f",
   "metadata": {},
   "outputs": [],
   "source": [
    "import warnings\n",
    "warnings.filterwarnings('ignore')"
   ]
  },
  {
   "cell_type": "code",
   "execution_count": 3,
   "id": "dbabfc42-d910-4a21-a394-a35d7d6cbe76",
   "metadata": {},
   "outputs": [],
   "source": [
    "# Define global variables\n",
    "all_genes = ['CALM1', 'TPK1', 'MTHR', 'SUMO1', 'UBC9']"
   ]
  },
  {
   "cell_type": "markdown",
   "id": "f1a67511-b1d8-486a-a307-8e56fea94199",
   "metadata": {
    "tags": []
   },
   "source": [
    "### Regression performance on DMS"
   ]
  },
  {
   "cell_type": "code",
   "execution_count": 4,
   "id": "eee280de-8cb0-4cd3-b567-884322deb993",
   "metadata": {},
   "outputs": [
    {
     "name": "stdout",
     "output_type": "stream",
     "text": [
      "Loaded 1962 variants in CALM1\n",
      "Loaded 3424 variants in TPK1\n",
      "Loaded 11947 variants in MTHR\n",
      "Loaded 1801 variants in SUMO1\n",
      "Loaded 2721 variants in UBC9\n"
     ]
    }
   ],
   "source": [
    "# Load DMS data\n",
    "feat_mat, label = load_data(all_genes, binarize = False)"
   ]
  },
  {
   "cell_type": "code",
   "execution_count": 5,
   "id": "1ba9bdcc-f27d-4ce1-bcb2-c80503a1903f",
   "metadata": {},
   "outputs": [
    {
     "name": "stdout",
     "output_type": "stream",
     "text": [
      "Test on gene CALM1\n",
      "All selected features: ['esm_1v', 'evolutionary_index_ASM', '100verte_mut_freq', '30mammal_mut_freq', 'vanilla_protmpnn_norm', 'conditioned_mt_score', 'BLOSUM1', 'Z1', 'BLOSUM7']\n",
      "Test on gene TPK1\n",
      "All selected features: ['esm_1v', 'evolutionary_index_ASM', '100verte_mut_freq', '30mammal_mut_freq', 'vanilla_protmpnn_norm', 'conditioned_wt_score', 'BLOSUM1', 'Z1', 'ST6']\n",
      "Test on gene MTHR\n",
      "All selected features: ['esm_1v', 'evolutionary_index_ASM', '100verte_mut_freq', '30mammal_mut_freq', 'vanilla_protmpnn_norm', 'conditioned_wt_score', 'BLOSUM1', 'ST6', 'VHSE3', 'MSWHIM2']\n",
      "Test on gene SUMO1\n",
      "All selected features: ['esm_1v', 'evolutionary_index_ASM', '100verte_mut_freq', '30mammal_wt_freq', 'vanilla_protmpnn_norm', 'conditioned_wt_score', 'PP1', 'Z5']\n",
      "Test on gene UBC9\n",
      "All selected features: ['esm_1v', 'evolutionary_index_ASM', '100verte_mut_freq', '30mammal_mut_freq', 'vanilla_protmpnn_norm', 'conditioned_wt_score', 'BLOSUM7', 'KF5', 'VHSE7', 'KF10']\n"
     ]
    },
    {
     "data": {
      "text/html": [
       "<div>\n",
       "<style scoped>\n",
       "    .dataframe tbody tr th:only-of-type {\n",
       "        vertical-align: middle;\n",
       "    }\n",
       "\n",
       "    .dataframe tbody tr th {\n",
       "        vertical-align: top;\n",
       "    }\n",
       "\n",
       "    .dataframe thead th {\n",
       "        text-align: right;\n",
       "    }\n",
       "</style>\n",
       "<table border=\"1\" class=\"dataframe\">\n",
       "  <thead>\n",
       "    <tr style=\"text-align: right;\">\n",
       "      <th></th>\n",
       "      <th>CALM1</th>\n",
       "      <th>MTHR</th>\n",
       "      <th>SUMO1</th>\n",
       "      <th>TPK1</th>\n",
       "      <th>UBC9</th>\n",
       "      <th>Avg</th>\n",
       "    </tr>\n",
       "  </thead>\n",
       "  <tbody>\n",
       "    <tr>\n",
       "      <th>CPT-1</th>\n",
       "      <td>0.29700</td>\n",
       "      <td>0.33150</td>\n",
       "      <td>0.63690</td>\n",
       "      <td>0.37200</td>\n",
       "      <td>0.57800</td>\n",
       "      <td>0.44308</td>\n",
       "    </tr>\n",
       "    <tr>\n",
       "      <th>esm_1v</th>\n",
       "      <td>0.31811</td>\n",
       "      <td>0.31443</td>\n",
       "      <td>0.58013</td>\n",
       "      <td>0.39565</td>\n",
       "      <td>0.55790</td>\n",
       "      <td>0.43324</td>\n",
       "    </tr>\n",
       "    <tr>\n",
       "      <th>EVE_scores_ASM</th>\n",
       "      <td>-0.29145</td>\n",
       "      <td>-0.29295</td>\n",
       "      <td>-0.60559</td>\n",
       "      <td>-0.31403</td>\n",
       "      <td>-0.57433</td>\n",
       "      <td>0.41567</td>\n",
       "    </tr>\n",
       "    <tr>\n",
       "      <th>evolutionary_index_ASM</th>\n",
       "      <td>-0.29114</td>\n",
       "      <td>-0.29389</td>\n",
       "      <td>-0.61464</td>\n",
       "      <td>-0.31599</td>\n",
       "      <td>-0.57464</td>\n",
       "      <td>0.41806</td>\n",
       "    </tr>\n",
       "    <tr>\n",
       "      <th>100verte_gap_freq</th>\n",
       "      <td>-0.04541</td>\n",
       "      <td>-0.25709</td>\n",
       "      <td>0.20035</td>\n",
       "      <td>0.01087</td>\n",
       "      <td>-0.02229</td>\n",
       "      <td>0.02271</td>\n",
       "    </tr>\n",
       "    <tr>\n",
       "      <th>100verte_wt_freq</th>\n",
       "      <td>-0.01560</td>\n",
       "      <td>-0.13102</td>\n",
       "      <td>-0.19360</td>\n",
       "      <td>-0.12562</td>\n",
       "      <td>0.03904</td>\n",
       "      <td>0.08536</td>\n",
       "    </tr>\n",
       "    <tr>\n",
       "      <th>100verte_mut_freq</th>\n",
       "      <td>0.21690</td>\n",
       "      <td>0.16231</td>\n",
       "      <td>0.37367</td>\n",
       "      <td>0.34208</td>\n",
       "      <td>0.26276</td>\n",
       "      <td>0.27154</td>\n",
       "    </tr>\n",
       "    <tr>\n",
       "      <th>30mammal_gap_freq</th>\n",
       "      <td>0.04414</td>\n",
       "      <td>-0.18624</td>\n",
       "      <td>0.09755</td>\n",
       "      <td>-0.04367</td>\n",
       "      <td>-0.01413</td>\n",
       "      <td>0.02047</td>\n",
       "    </tr>\n",
       "    <tr>\n",
       "      <th>30mammal_wt_freq</th>\n",
       "      <td>NaN</td>\n",
       "      <td>-0.07664</td>\n",
       "      <td>-0.11220</td>\n",
       "      <td>-0.09827</td>\n",
       "      <td>NaN</td>\n",
       "      <td>0.09570</td>\n",
       "    </tr>\n",
       "    <tr>\n",
       "      <th>30mammal_mut_freq</th>\n",
       "      <td>0.21239</td>\n",
       "      <td>0.13859</td>\n",
       "      <td>0.37505</td>\n",
       "      <td>0.30426</td>\n",
       "      <td>0.29887</td>\n",
       "      <td>0.26583</td>\n",
       "    </tr>\n",
       "    <tr>\n",
       "      <th>conditioned_wt_score</th>\n",
       "      <td>-0.04451</td>\n",
       "      <td>-0.12713</td>\n",
       "      <td>-0.29195</td>\n",
       "      <td>-0.10397</td>\n",
       "      <td>-0.27310</td>\n",
       "      <td>0.16813</td>\n",
       "    </tr>\n",
       "    <tr>\n",
       "      <th>conditioned_mt_score</th>\n",
       "      <td>0.21125</td>\n",
       "      <td>0.29118</td>\n",
       "      <td>0.49426</td>\n",
       "      <td>0.26407</td>\n",
       "      <td>0.45350</td>\n",
       "      <td>0.34285</td>\n",
       "    </tr>\n",
       "    <tr>\n",
       "      <th>vanilla_protmpnn_norm</th>\n",
       "      <td>0.16844</td>\n",
       "      <td>0.27814</td>\n",
       "      <td>0.52639</td>\n",
       "      <td>0.27075</td>\n",
       "      <td>0.39979</td>\n",
       "      <td>0.32870</td>\n",
       "    </tr>\n",
       "    <tr>\n",
       "      <th>ca_protmpnn_norm</th>\n",
       "      <td>0.18220</td>\n",
       "      <td>0.27265</td>\n",
       "      <td>0.51319</td>\n",
       "      <td>0.26859</td>\n",
       "      <td>0.37546</td>\n",
       "      <td>0.32242</td>\n",
       "    </tr>\n",
       "    <tr>\n",
       "      <th>ca_only_protmpnn_norm</th>\n",
       "      <td>0.17373</td>\n",
       "      <td>0.24065</td>\n",
       "      <td>0.50822</td>\n",
       "      <td>0.26609</td>\n",
       "      <td>0.36579</td>\n",
       "      <td>0.31090</td>\n",
       "    </tr>\n",
       "  </tbody>\n",
       "</table>\n",
       "</div>"
      ],
      "text/plain": [
       "                          CALM1     MTHR    SUMO1     TPK1     UBC9      Avg\n",
       "CPT-1                   0.29700  0.33150  0.63690  0.37200  0.57800  0.44308\n",
       "esm_1v                  0.31811  0.31443  0.58013  0.39565  0.55790  0.43324\n",
       "EVE_scores_ASM         -0.29145 -0.29295 -0.60559 -0.31403 -0.57433  0.41567\n",
       "evolutionary_index_ASM -0.29114 -0.29389 -0.61464 -0.31599 -0.57464  0.41806\n",
       "100verte_gap_freq      -0.04541 -0.25709  0.20035  0.01087 -0.02229  0.02271\n",
       "100verte_wt_freq       -0.01560 -0.13102 -0.19360 -0.12562  0.03904  0.08536\n",
       "100verte_mut_freq       0.21690  0.16231  0.37367  0.34208  0.26276  0.27154\n",
       "30mammal_gap_freq       0.04414 -0.18624  0.09755 -0.04367 -0.01413  0.02047\n",
       "30mammal_wt_freq            NaN -0.07664 -0.11220 -0.09827      NaN  0.09570\n",
       "30mammal_mut_freq       0.21239  0.13859  0.37505  0.30426  0.29887  0.26583\n",
       "conditioned_wt_score   -0.04451 -0.12713 -0.29195 -0.10397 -0.27310  0.16813\n",
       "conditioned_mt_score    0.21125  0.29118  0.49426  0.26407  0.45350  0.34285\n",
       "vanilla_protmpnn_norm   0.16844  0.27814  0.52639  0.27075  0.39979  0.32870\n",
       "ca_protmpnn_norm        0.18220  0.27265  0.51319  0.26859  0.37546  0.32242\n",
       "ca_only_protmpnn_norm   0.17373  0.24065  0.50822  0.26609  0.36579  0.31090"
      ]
     },
     "execution_count": 5,
     "metadata": {},
     "output_type": "execute_result"
    }
   ],
   "source": [
    "# Table: performance on DMS genes\n",
    "feat_selected = {}\n",
    "corr = {}\n",
    "corr['CPT-1'] = {}\n",
    "\n",
    "for test_gene in all_genes:\n",
    "    print('Test on gene', test_gene)\n",
    "    train_genes = list(set(all_genes) - set([test_gene]))\n",
    "\n",
    "    # select features using training genes\n",
    "    feat_selected[test_gene] = select_feat_by_category(feat_mat, label, train_genes, \n",
    "                                                       model = 'regressor', tol = 2e-3, verbose = False)\n",
    "    \n",
    "    # predict on the test gene\n",
    "    cpt = CPTRegressor()\n",
    "    cpt.train(feat_mat, label, train_genes, feat_selected[test_gene])\n",
    "    pred = cpt.predict(feat_mat[test_gene][feat_selected[test_gene]])\n",
    "    corr['CPT-1'][test_gene] = round(stats.spearmanr(pred, label[test_gene])[0], 4)\n",
    "\n",
    "corr = pd.DataFrame(corr).transpose()\n",
    "corr['Avg'] = corr.mean(axis = 1)\n",
    "corr_mat = cross_validate(feat_mat, label, all_genes, model = 'regressor',\n",
    "                          feat_performance = True).drop(['transfer_model'], axis = 0)\n",
    "corr_mat = corr_mat.loc[['esm_1v'] + eve_feats + msa_feats + struct_feats + mpnn_feats]\n",
    "corr_mat = pd.concat([corr, corr_mat])\n",
    "corr_mat"
   ]
  },
  {
   "attachments": {},
   "cell_type": "markdown",
   "id": "44258377",
   "metadata": {},
   "source": [
    "#### Test on more genes from ProteinGym"
   ]
  },
  {
   "cell_type": "code",
   "execution_count": 6,
   "id": "9a14103e",
   "metadata": {},
   "outputs": [],
   "source": [
    "# Predict more genes in ProteinGym?\n",
    "extra_genes = ['KCNH2', 'SCN5A', 'SC6A4', 'RASH', 'SYUA', 'PTEN', \n",
    "               'VKOR1', 'A4', 'P53', 'MSH2', 'TPOR', 'BRCA1', 'YAP1']\n",
    "\n",
    "for gene in extra_genes:\n",
    "    feat_mat[gene] = pd.read_csv(f'./data/additional_dms/feat_mat_{gene}.csv', index_col = 0)\n",
    "    label[gene] = pd.read_csv(f'./data/additional_dms/score_{gene}.csv', index_col = 0)"
   ]
  },
  {
   "cell_type": "code",
   "execution_count": 7,
   "id": "96240b7f",
   "metadata": {},
   "outputs": [
    {
     "name": "stdout",
     "output_type": "stream",
     "text": [
      "Selecting features in the category 100verte_msa\n"
     ]
    },
    {
     "name": "stderr",
     "output_type": "stream",
     "text": [
      "100%|██████████| 7/7 [00:02<00:00,  2.90it/s]\n"
     ]
    },
    {
     "name": "stdout",
     "output_type": "stream",
     "text": [
      "Best features: ('100verte_mut_freq',) Avg metric on DMS: 0.43916\n",
      "Selecting features in the category 30mammal_msa\n"
     ]
    },
    {
     "name": "stderr",
     "output_type": "stream",
     "text": [
      "100%|██████████| 7/7 [00:02<00:00,  2.94it/s]\n"
     ]
    },
    {
     "name": "stdout",
     "output_type": "stream",
     "text": [
      "Best features: ('30mammal_mut_freq',) Avg metric on DMS: 0.43848\n",
      "Selecting features in the category mpnn\n"
     ]
    },
    {
     "name": "stderr",
     "output_type": "stream",
     "text": [
      "100%|██████████| 7/7 [00:02<00:00,  2.88it/s]\n"
     ]
    },
    {
     "name": "stdout",
     "output_type": "stream",
     "text": [
      "Best features: ('vanilla_protmpnn_norm',) Avg metric on DMS: 0.44035\n",
      "Selecting features in the category struct\n"
     ]
    },
    {
     "name": "stderr",
     "output_type": "stream",
     "text": [
      "100%|██████████| 3/3 [00:01<00:00,  2.58it/s]\n"
     ]
    },
    {
     "name": "stdout",
     "output_type": "stream",
     "text": [
      "Best features: ('conditioned_wt_score',) Avg metric on DMS: 0.43922\n",
      "0 ['BLOSUM1'] 0.44357\n",
      "1 ['BLOSUM1', 'ST6'] 0.44641\n",
      "2 ['BLOSUM1', 'ST6', 'VHSE6'] 0.44772\n",
      "All selected features: ['esm_1v', 'evolutionary_index_ASM', '100verte_mut_freq', '30mammal_mut_freq', 'vanilla_protmpnn_norm', 'conditioned_wt_score', 'BLOSUM1', 'ST6', 'VHSE6']\n"
     ]
    },
    {
     "data": {
      "text/html": [
       "<div>\n",
       "<style scoped>\n",
       "    .dataframe tbody tr th:only-of-type {\n",
       "        vertical-align: middle;\n",
       "    }\n",
       "\n",
       "    .dataframe tbody tr th {\n",
       "        vertical-align: top;\n",
       "    }\n",
       "\n",
       "    .dataframe thead th {\n",
       "        text-align: right;\n",
       "    }\n",
       "</style>\n",
       "<table border=\"1\" class=\"dataframe\">\n",
       "  <thead>\n",
       "    <tr style=\"text-align: right;\">\n",
       "      <th></th>\n",
       "      <th>A4</th>\n",
       "      <th>BRCA1</th>\n",
       "      <th>KCNH2</th>\n",
       "      <th>MSH2</th>\n",
       "      <th>P53</th>\n",
       "      <th>PTEN</th>\n",
       "      <th>RASH</th>\n",
       "      <th>SC6A4</th>\n",
       "      <th>SCN5A</th>\n",
       "      <th>SYUA</th>\n",
       "      <th>TPOR</th>\n",
       "      <th>VKOR1</th>\n",
       "      <th>YAP1</th>\n",
       "      <th>Avg</th>\n",
       "    </tr>\n",
       "  </thead>\n",
       "  <tbody>\n",
       "    <tr>\n",
       "      <th>CPT-1</th>\n",
       "      <td>0.44860</td>\n",
       "      <td>0.56860</td>\n",
       "      <td>0.39270</td>\n",
       "      <td>0.42080</td>\n",
       "      <td>0.56080</td>\n",
       "      <td>0.51350</td>\n",
       "      <td>0.47560</td>\n",
       "      <td>0.57190</td>\n",
       "      <td>0.12080</td>\n",
       "      <td>0.30390</td>\n",
       "      <td>0.44760</td>\n",
       "      <td>0.53960</td>\n",
       "      <td>0.54890</td>\n",
       "      <td>0.454869</td>\n",
       "    </tr>\n",
       "    <tr>\n",
       "      <th>esm_1v</th>\n",
       "      <td>0.43529</td>\n",
       "      <td>0.44976</td>\n",
       "      <td>0.29482</td>\n",
       "      <td>0.40018</td>\n",
       "      <td>0.55259</td>\n",
       "      <td>0.45422</td>\n",
       "      <td>0.40489</td>\n",
       "      <td>0.54230</td>\n",
       "      <td>0.13549</td>\n",
       "      <td>0.26653</td>\n",
       "      <td>0.39967</td>\n",
       "      <td>0.47378</td>\n",
       "      <td>0.44075</td>\n",
       "      <td>0.403870</td>\n",
       "    </tr>\n",
       "    <tr>\n",
       "      <th>EVE_scores_ASM</th>\n",
       "      <td>-0.34342</td>\n",
       "      <td>-0.51509</td>\n",
       "      <td>-0.02333</td>\n",
       "      <td>-0.39441</td>\n",
       "      <td>-0.45182</td>\n",
       "      <td>-0.35965</td>\n",
       "      <td>-0.48025</td>\n",
       "      <td>-0.51973</td>\n",
       "      <td>-0.08233</td>\n",
       "      <td>-0.15615</td>\n",
       "      <td>-0.35242</td>\n",
       "      <td>-0.46381</td>\n",
       "      <td>-0.61665</td>\n",
       "      <td>0.366080</td>\n",
       "    </tr>\n",
       "    <tr>\n",
       "      <th>evolutionary_index_ASM</th>\n",
       "      <td>-0.34342</td>\n",
       "      <td>-0.51581</td>\n",
       "      <td>-0.02826</td>\n",
       "      <td>-0.39429</td>\n",
       "      <td>-0.45070</td>\n",
       "      <td>-0.36404</td>\n",
       "      <td>-0.48051</td>\n",
       "      <td>-0.52316</td>\n",
       "      <td>-0.08465</td>\n",
       "      <td>-0.15515</td>\n",
       "      <td>-0.35242</td>\n",
       "      <td>-0.46536</td>\n",
       "      <td>-0.61665</td>\n",
       "      <td>0.367260</td>\n",
       "    </tr>\n",
       "    <tr>\n",
       "      <th>100verte_gap_freq</th>\n",
       "      <td>0.40694</td>\n",
       "      <td>-0.13666</td>\n",
       "      <td>NaN</td>\n",
       "      <td>0.11625</td>\n",
       "      <td>0.63874</td>\n",
       "      <td>0.08372</td>\n",
       "      <td>0.09417</td>\n",
       "      <td>0.20864</td>\n",
       "      <td>0.14001</td>\n",
       "      <td>0.15293</td>\n",
       "      <td>0.03194</td>\n",
       "      <td>0.12481</td>\n",
       "      <td>-0.17067</td>\n",
       "      <td>0.140900</td>\n",
       "    </tr>\n",
       "    <tr>\n",
       "      <th>100verte_wt_freq</th>\n",
       "      <td>-0.26228</td>\n",
       "      <td>-0.42326</td>\n",
       "      <td>0.14871</td>\n",
       "      <td>-0.24381</td>\n",
       "      <td>-0.28606</td>\n",
       "      <td>-0.27595</td>\n",
       "      <td>0.04578</td>\n",
       "      <td>-0.31523</td>\n",
       "      <td>0.00902</td>\n",
       "      <td>-0.05549</td>\n",
       "      <td>-0.13236</td>\n",
       "      <td>-0.21957</td>\n",
       "      <td>-0.53608</td>\n",
       "      <td>0.195890</td>\n",
       "    </tr>\n",
       "    <tr>\n",
       "      <th>100verte_mut_freq</th>\n",
       "      <td>0.12902</td>\n",
       "      <td>0.35669</td>\n",
       "      <td>0.03142</td>\n",
       "      <td>0.14522</td>\n",
       "      <td>0.08369</td>\n",
       "      <td>0.11979</td>\n",
       "      <td>0.01903</td>\n",
       "      <td>0.23295</td>\n",
       "      <td>0.06214</td>\n",
       "      <td>0.05274</td>\n",
       "      <td>0.23124</td>\n",
       "      <td>0.24640</td>\n",
       "      <td>0.16544</td>\n",
       "      <td>0.144290</td>\n",
       "    </tr>\n",
       "    <tr>\n",
       "      <th>30mammal_gap_freq</th>\n",
       "      <td>NaN</td>\n",
       "      <td>0.03888</td>\n",
       "      <td>NaN</td>\n",
       "      <td>-0.13148</td>\n",
       "      <td>0.32798</td>\n",
       "      <td>0.10798</td>\n",
       "      <td>-0.05327</td>\n",
       "      <td>-0.10774</td>\n",
       "      <td>NaN</td>\n",
       "      <td>-0.16243</td>\n",
       "      <td>0.09576</td>\n",
       "      <td>0.05007</td>\n",
       "      <td>NaN</td>\n",
       "      <td>0.018420</td>\n",
       "    </tr>\n",
       "    <tr>\n",
       "      <th>30mammal_wt_freq</th>\n",
       "      <td>-0.12259</td>\n",
       "      <td>-0.32339</td>\n",
       "      <td>NaN</td>\n",
       "      <td>-0.15667</td>\n",
       "      <td>-0.29898</td>\n",
       "      <td>-0.06172</td>\n",
       "      <td>-0.03278</td>\n",
       "      <td>-0.25351</td>\n",
       "      <td>NaN</td>\n",
       "      <td>-0.06260</td>\n",
       "      <td>-0.24962</td>\n",
       "      <td>-0.19417</td>\n",
       "      <td>-0.06870</td>\n",
       "      <td>0.165880</td>\n",
       "    </tr>\n",
       "    <tr>\n",
       "      <th>30mammal_mut_freq</th>\n",
       "      <td>0.05700</td>\n",
       "      <td>0.25054</td>\n",
       "      <td>NaN</td>\n",
       "      <td>0.04734</td>\n",
       "      <td>0.03044</td>\n",
       "      <td>0.02878</td>\n",
       "      <td>0.04751</td>\n",
       "      <td>0.09252</td>\n",
       "      <td>NaN</td>\n",
       "      <td>0.02429</td>\n",
       "      <td>0.14787</td>\n",
       "      <td>0.14808</td>\n",
       "      <td>0.04505</td>\n",
       "      <td>0.083580</td>\n",
       "    </tr>\n",
       "    <tr>\n",
       "      <th>conditioned_wt_score</th>\n",
       "      <td>-0.31218</td>\n",
       "      <td>-0.30810</td>\n",
       "      <td>0.08401</td>\n",
       "      <td>-0.22421</td>\n",
       "      <td>-0.38295</td>\n",
       "      <td>-0.24094</td>\n",
       "      <td>-0.21965</td>\n",
       "      <td>-0.22017</td>\n",
       "      <td>-0.04511</td>\n",
       "      <td>-0.11188</td>\n",
       "      <td>-0.06918</td>\n",
       "      <td>-0.04740</td>\n",
       "      <td>-0.27378</td>\n",
       "      <td>0.182430</td>\n",
       "    </tr>\n",
       "    <tr>\n",
       "      <th>conditioned_mt_score</th>\n",
       "      <td>0.35218</td>\n",
       "      <td>0.38792</td>\n",
       "      <td>0.29080</td>\n",
       "      <td>0.34044</td>\n",
       "      <td>0.27954</td>\n",
       "      <td>0.36347</td>\n",
       "      <td>0.44065</td>\n",
       "      <td>0.46115</td>\n",
       "      <td>-0.05639</td>\n",
       "      <td>0.25419</td>\n",
       "      <td>0.35434</td>\n",
       "      <td>0.35238</td>\n",
       "      <td>0.42527</td>\n",
       "      <td>0.326610</td>\n",
       "    </tr>\n",
       "    <tr>\n",
       "      <th>vanilla_protmpnn_norm</th>\n",
       "      <td>0.27046</td>\n",
       "      <td>0.43791</td>\n",
       "      <td>0.31881</td>\n",
       "      <td>0.25626</td>\n",
       "      <td>0.44565</td>\n",
       "      <td>0.47245</td>\n",
       "      <td>0.37484</td>\n",
       "      <td>0.48646</td>\n",
       "      <td>0.04403</td>\n",
       "      <td>0.22275</td>\n",
       "      <td>0.35942</td>\n",
       "      <td>0.50327</td>\n",
       "      <td>0.41517</td>\n",
       "      <td>0.354420</td>\n",
       "    </tr>\n",
       "    <tr>\n",
       "      <th>ca_protmpnn_norm</th>\n",
       "      <td>0.30828</td>\n",
       "      <td>0.42245</td>\n",
       "      <td>0.31461</td>\n",
       "      <td>0.25781</td>\n",
       "      <td>0.43951</td>\n",
       "      <td>0.48217</td>\n",
       "      <td>0.36590</td>\n",
       "      <td>0.48757</td>\n",
       "      <td>0.09929</td>\n",
       "      <td>0.07586</td>\n",
       "      <td>0.29910</td>\n",
       "      <td>0.50311</td>\n",
       "      <td>0.41811</td>\n",
       "      <td>0.344140</td>\n",
       "    </tr>\n",
       "    <tr>\n",
       "      <th>ca_only_protmpnn_norm</th>\n",
       "      <td>-0.04255</td>\n",
       "      <td>0.41879</td>\n",
       "      <td>0.15635</td>\n",
       "      <td>0.25208</td>\n",
       "      <td>0.36956</td>\n",
       "      <td>0.43178</td>\n",
       "      <td>0.37740</td>\n",
       "      <td>0.40113</td>\n",
       "      <td>0.12342</td>\n",
       "      <td>-0.00940</td>\n",
       "      <td>0.13769</td>\n",
       "      <td>0.25589</td>\n",
       "      <td>0.41680</td>\n",
       "      <td>0.253000</td>\n",
       "    </tr>\n",
       "  </tbody>\n",
       "</table>\n",
       "</div>"
      ],
      "text/plain": [
       "                             A4    BRCA1    KCNH2     MSH2      P53     PTEN  \\\n",
       "CPT-1                   0.44860  0.56860  0.39270  0.42080  0.56080  0.51350   \n",
       "esm_1v                  0.43529  0.44976  0.29482  0.40018  0.55259  0.45422   \n",
       "EVE_scores_ASM         -0.34342 -0.51509 -0.02333 -0.39441 -0.45182 -0.35965   \n",
       "evolutionary_index_ASM -0.34342 -0.51581 -0.02826 -0.39429 -0.45070 -0.36404   \n",
       "100verte_gap_freq       0.40694 -0.13666      NaN  0.11625  0.63874  0.08372   \n",
       "100verte_wt_freq       -0.26228 -0.42326  0.14871 -0.24381 -0.28606 -0.27595   \n",
       "100verte_mut_freq       0.12902  0.35669  0.03142  0.14522  0.08369  0.11979   \n",
       "30mammal_gap_freq           NaN  0.03888      NaN -0.13148  0.32798  0.10798   \n",
       "30mammal_wt_freq       -0.12259 -0.32339      NaN -0.15667 -0.29898 -0.06172   \n",
       "30mammal_mut_freq       0.05700  0.25054      NaN  0.04734  0.03044  0.02878   \n",
       "conditioned_wt_score   -0.31218 -0.30810  0.08401 -0.22421 -0.38295 -0.24094   \n",
       "conditioned_mt_score    0.35218  0.38792  0.29080  0.34044  0.27954  0.36347   \n",
       "vanilla_protmpnn_norm   0.27046  0.43791  0.31881  0.25626  0.44565  0.47245   \n",
       "ca_protmpnn_norm        0.30828  0.42245  0.31461  0.25781  0.43951  0.48217   \n",
       "ca_only_protmpnn_norm  -0.04255  0.41879  0.15635  0.25208  0.36956  0.43178   \n",
       "\n",
       "                           RASH    SC6A4    SCN5A     SYUA     TPOR    VKOR1  \\\n",
       "CPT-1                   0.47560  0.57190  0.12080  0.30390  0.44760  0.53960   \n",
       "esm_1v                  0.40489  0.54230  0.13549  0.26653  0.39967  0.47378   \n",
       "EVE_scores_ASM         -0.48025 -0.51973 -0.08233 -0.15615 -0.35242 -0.46381   \n",
       "evolutionary_index_ASM -0.48051 -0.52316 -0.08465 -0.15515 -0.35242 -0.46536   \n",
       "100verte_gap_freq       0.09417  0.20864  0.14001  0.15293  0.03194  0.12481   \n",
       "100verte_wt_freq        0.04578 -0.31523  0.00902 -0.05549 -0.13236 -0.21957   \n",
       "100verte_mut_freq       0.01903  0.23295  0.06214  0.05274  0.23124  0.24640   \n",
       "30mammal_gap_freq      -0.05327 -0.10774      NaN -0.16243  0.09576  0.05007   \n",
       "30mammal_wt_freq       -0.03278 -0.25351      NaN -0.06260 -0.24962 -0.19417   \n",
       "30mammal_mut_freq       0.04751  0.09252      NaN  0.02429  0.14787  0.14808   \n",
       "conditioned_wt_score   -0.21965 -0.22017 -0.04511 -0.11188 -0.06918 -0.04740   \n",
       "conditioned_mt_score    0.44065  0.46115 -0.05639  0.25419  0.35434  0.35238   \n",
       "vanilla_protmpnn_norm   0.37484  0.48646  0.04403  0.22275  0.35942  0.50327   \n",
       "ca_protmpnn_norm        0.36590  0.48757  0.09929  0.07586  0.29910  0.50311   \n",
       "ca_only_protmpnn_norm   0.37740  0.40113  0.12342 -0.00940  0.13769  0.25589   \n",
       "\n",
       "                           YAP1       Avg  \n",
       "CPT-1                   0.54890  0.454869  \n",
       "esm_1v                  0.44075  0.403870  \n",
       "EVE_scores_ASM         -0.61665  0.366080  \n",
       "evolutionary_index_ASM -0.61665  0.367260  \n",
       "100verte_gap_freq      -0.17067  0.140900  \n",
       "100verte_wt_freq       -0.53608  0.195890  \n",
       "100verte_mut_freq       0.16544  0.144290  \n",
       "30mammal_gap_freq           NaN  0.018420  \n",
       "30mammal_wt_freq       -0.06870  0.165880  \n",
       "30mammal_mut_freq       0.04505  0.083580  \n",
       "conditioned_wt_score   -0.27378  0.182430  \n",
       "conditioned_mt_score    0.42527  0.326610  \n",
       "vanilla_protmpnn_norm   0.41517  0.354420  \n",
       "ca_protmpnn_norm        0.41811  0.344140  \n",
       "ca_only_protmpnn_norm   0.41680  0.253000  "
      ]
     },
     "execution_count": 7,
     "metadata": {},
     "output_type": "execute_result"
    }
   ],
   "source": [
    "# Table: performance on additional DMS genes\n",
    "feat_selected = {}\n",
    "corr = {}\n",
    "corr['CPT-1'] = {}\n",
    "\n",
    "feat_selected_dms = select_feat_by_category(feat_mat, label, all_genes, \n",
    "                                            model = 'regressor', tol = 2e-3, verbose = True)\n",
    "\n",
    "# predict on the test gene\n",
    "cpt = CPTRegressor()\n",
    "cpt.train(feat_mat, label, all_genes, feat_selected_dms)\n",
    "\n",
    "for test_gene in extra_genes:\n",
    "    pred = cpt.predict(feat_mat[test_gene][feat_selected_dms])\n",
    "    corr['CPT-1'][test_gene] = round(stats.spearmanr(pred, label[test_gene])[0], 4)\n",
    "\n",
    "corr = pd.DataFrame(corr).transpose()\n",
    "corr['Avg'] = corr.mean(axis = 1)\n",
    "corr_mat = cross_validate(feat_mat, label, extra_genes, model = 'regressor',\n",
    "                          feat_performance = True).drop(['transfer_model'], axis = 0)\n",
    "corr_mat = corr_mat.loc[['esm_1v'] + eve_feats + msa_feats + struct_feats + mpnn_feats]\n",
    "corr_mat = pd.concat([corr, corr_mat])\n",
    "corr_mat"
   ]
  },
  {
   "cell_type": "markdown",
   "id": "05c20d26-ba1b-493a-ad47-5f778b576d1c",
   "metadata": {},
   "source": [
    "### Classification performance on ClinVar"
   ]
  },
  {
   "cell_type": "code",
   "execution_count": 8,
   "id": "f55ec1f4-c10c-4499-b156-64f120c847cc",
   "metadata": {},
   "outputs": [
    {
     "name": "stdout",
     "output_type": "stream",
     "text": [
      "Loaded 785 positive variants and 785 negative variants in CALM1\n",
      "Loaded 1370 positive variants and 1370 negative variants in TPK1\n",
      "Loaded 4769 positive variants and 4779 negative variants in MTHR\n",
      "Loaded 720 positive variants and 721 negative variants in SUMO1\n",
      "Loaded 1088 positive variants and 1089 negative variants in UBC9\n"
     ]
    }
   ],
   "source": [
    "# Load DMS data and binaize\n",
    "feat_mat, label = load_data(all_genes, binarize = True, quantile = 0.4)"
   ]
  },
  {
   "cell_type": "code",
   "execution_count": 9,
   "id": "97de0343-4b2e-4c2d-bbd0-e0f57ebab050",
   "metadata": {},
   "outputs": [
    {
     "name": "stdout",
     "output_type": "stream",
     "text": [
      "Loaded 785 positive variants and 785 negative variants in CALM1\n",
      "Loaded 1370 positive variants and 1370 negative variants in TPK1\n",
      "Loaded 4769 positive variants and 4779 negative variants in MTHR\n",
      "Loaded 720 positive variants and 721 negative variants in SUMO1\n",
      "Loaded 1088 positive variants and 1089 negative variants in UBC9\n"
     ]
    }
   ],
   "source": [
    "# Load cross-gene imputed DMS data and binaize\n",
    "feat_mat_xgi, label_xgi = load_data(all_genes, binarize = True, quantile = 0.4, cross_impute = True)"
   ]
  },
  {
   "cell_type": "code",
   "execution_count": 10,
   "id": "138845c3-4f7f-4b62-8ebd-09b044695305",
   "metadata": {},
   "outputs": [
    {
     "name": "stdout",
     "output_type": "stream",
     "text": [
      "Selecting features in the category 100verte_msa\n"
     ]
    },
    {
     "name": "stderr",
     "output_type": "stream",
     "text": [
      "100%|██████████| 7/7 [00:13<00:00,  1.91s/it]\n"
     ]
    },
    {
     "name": "stdout",
     "output_type": "stream",
     "text": [
      "Best features: ('100verte_mut_freq',) Avg metric on DMS: 0.78502\n",
      "Selecting features in the category 30mammal_msa\n"
     ]
    },
    {
     "name": "stderr",
     "output_type": "stream",
     "text": [
      "100%|██████████| 7/7 [00:03<00:00,  1.81it/s]\n"
     ]
    },
    {
     "name": "stdout",
     "output_type": "stream",
     "text": [
      "Best features: ('30mammal_mut_freq',) Avg metric on DMS: 0.78406\n",
      "Selecting features in the category mpnn\n"
     ]
    },
    {
     "name": "stderr",
     "output_type": "stream",
     "text": [
      "100%|██████████| 7/7 [00:04<00:00,  1.46it/s]\n"
     ]
    },
    {
     "name": "stdout",
     "output_type": "stream",
     "text": [
      "Best features: ('vanilla_protmpnn_norm',) Avg metric on DMS: 0.78406\n",
      "Selecting features in the category struct\n"
     ]
    },
    {
     "name": "stderr",
     "output_type": "stream",
     "text": [
      "100%|██████████| 3/3 [00:02<00:00,  1.41it/s]\n"
     ]
    },
    {
     "name": "stdout",
     "output_type": "stream",
     "text": [
      "Best features: ('conditioned_wt_score',) Avg metric on DMS: 0.78364\n",
      "0 ['BLOSUM1'] 0.78655\n",
      "1 ['BLOSUM1', 'ST6'] 0.7887\n",
      "2 ['BLOSUM1', 'ST6', 'VHSE6'] 0.79004\n",
      "All selected features: ['esm_1v', 'evolutionary_index_ASM', '100verte_mut_freq', '30mammal_mut_freq', 'vanilla_protmpnn_norm', 'conditioned_wt_score', 'BLOSUM1', 'ST6', 'VHSE6']\n"
     ]
    }
   ],
   "source": [
    "# Select features based on DMS experiment labels\n",
    "feat_selected_dms = select_feat_by_category(feat_mat, label, all_genes)"
   ]
  },
  {
   "attachments": {},
   "cell_type": "markdown",
   "id": "439832e7",
   "metadata": {},
   "source": [
    "#### Load ClinVar benchmark dataset"
   ]
  },
  {
   "cell_type": "code",
   "execution_count": 11,
   "id": "15716ccd",
   "metadata": {},
   "outputs": [],
   "source": [
    "x = pd.read_csv('./data/since2017_one_star_clinvar_x.csv', index_col = 0)\n",
    "y = pd.read_csv('./data/since2017_one_star_clinvar_y.csv', index_col = 0)\n",
    "# pred_VESPAl = pd.read_csv('./data/since2017_one_star_clinvar_VESPAl_pred.csv', index_col = 0)\n",
    "# pred_GEMME = pd.read_csv('./data/since2017_one_star_clinvar_GEMME_pred.csv', index_col = 0)"
   ]
  },
  {
   "attachments": {},
   "cell_type": "markdown",
   "id": "6f0e4e99",
   "metadata": {},
   "source": [
    "#### Run benchmark"
   ]
  },
  {
   "cell_type": "code",
   "execution_count": 12,
   "id": "40f27c0c-ad21-4294-ab73-bf6472f514d7",
   "metadata": {},
   "outputs": [
    {
     "name": "stdout",
     "output_type": "stream",
     "text": [
      "Positive features: ['evolutionary_index_ASM', 'EVE_scores_ASM', 'PP1', 'KF1', 'KF2', 'KF4', 'KF5', 'KF6', 'Z1', 'Z2', 'Z3', 'Z4', 'Z5', 'F5', 'T1', 'T2', 'T3', 'VHSE2', 'VHSE3', 'VHSE4', 'VHSE6', 'VHSE7', 'VHSE8', 'ProtFP2', 'ProtFP3', 'ST1', 'ST2', 'ST5', 'ST6', 'ST7', 'ST8', 'BLOSUM1', 'BLOSUM2', 'BLOSUM5', 'BLOSUM9', 'BLOSUM10', 'MSWHIM1', 'MSWHIM3', '100verte_gap_freq', '100verte_wt_freq', '30mammal_gap_freq', '30mammal_wt_freq', 'conditioned_wt_score']\n",
      "Negative features: ['esm_1v', 'PP2', 'PP3', 'KF3', 'KF7', 'KF8', 'KF9', 'KF10', 'F1', 'F2', 'F3', 'F4', 'F6', 'T4', 'T5', 'VHSE1', 'VHSE5', 'ProtFP1', 'ProtFP4', 'ProtFP5', 'ProtFP6', 'ProtFP7', 'ProtFP8', 'ST3', 'ST4', 'BLOSUM3', 'BLOSUM4', 'BLOSUM6', 'BLOSUM7', 'BLOSUM8', 'MSWHIM2', '100verte_mut_freq', '30mammal_mut_freq', 'conditioned_mt_score', 'vanilla_protmpnn_norm', 'ca_protmpnn_norm', 'ca_only_protmpnn_norm']\n"
     ]
    }
   ],
   "source": [
    "# Determine features positively/negatively associated with variant effect using DMS results\n",
    "auroc_feat = {}\n",
    "for gene in all_genes:\n",
    "    auroc_feat[gene] = {}\n",
    "    for feat in feat_mat[gene].columns:\n",
    "        auroc_feat[gene][feat] = roc_auc_score(label[gene], feat_mat[gene][feat])\n",
    "auroc_feat = pd.DataFrame(auroc_feat)\n",
    "auroc_feat['Avg'] = auroc_feat.mean(axis = 1)\n",
    "pos_feats = auroc_feat[auroc_feat['Avg'] < 0.5].index.to_list()\n",
    "neg_feats = auroc_feat[auroc_feat['Avg'] >= 0.5].index.to_list()\n",
    "print(f\"Positive features: {pos_feats}\")\n",
    "print(f\"Negative features: {neg_feats}\")"
   ]
  },
  {
   "cell_type": "code",
   "execution_count": 13,
   "id": "4ba80c6c-66f1-4f22-bd6b-89e436bf9d7e",
   "metadata": {},
   "outputs": [
    {
     "name": "stdout",
     "output_type": "stream",
     "text": [
      "Features selected on DMS ['esm_1v', 'evolutionary_index_ASM', '100verte_mut_freq', '30mammal_mut_freq', 'vanilla_protmpnn_norm', 'conditioned_wt_score', 'BLOSUM1', 'ST6', 'VHSE6']\n",
      "Features w/o msa ['BLOSUM1', 'ST6', 'conditioned_wt_score', 'vanilla_protmpnn_norm', 'esm_1v', 'evolutionary_index_ASM', 'VHSE6']\n",
      "Features w/o struct ['BLOSUM1', 'ST6', '100verte_mut_freq', 'esm_1v', '30mammal_mut_freq', 'evolutionary_index_ASM', 'VHSE6']\n"
     ]
    }
   ],
   "source": [
    "# Construct prediction matrix\n",
    "pred = pd.DataFrame(index = y.index)\n",
    "\n",
    "cpt = CPTClassifier()\n",
    "# Transfer model predictions\n",
    "features = feat_selected_dms\n",
    "print('Features selected on DMS', features)\n",
    "cpt.train(feat_mat, label, all_genes, features)\n",
    "pred_clinvar = cpt.predict(x[features])\n",
    "pred['Transfer'] = 1 - pred_clinvar.values\n",
    "\n",
    "# pred['VESPAl'] = pred_VESPAl\n",
    "# pred['GEMME'] = -pred_GEMME\n",
    "\n",
    "# Transfer model predictions without MSA features\n",
    "features = list(set(feat_selected_dms) - set(msa_feats))\n",
    "print('Features w/o msa', features)\n",
    "cpt.train(feat_mat, label, all_genes, features)\n",
    "pred_clinvar = cpt.predict(x[features])\n",
    "pred['Transfer_no_msa'] = 1 - pred_clinvar.values\n",
    "\n",
    "# Transfer model predictions without structural features\n",
    "features = list(set(feat_selected_dms) - set(struct_feats + mpnn_feats))\n",
    "print('Features w/o struct', features)\n",
    "cpt.train(feat_mat, label, all_genes, features)\n",
    "pred_clinvar = cpt.predict(x[features])\n",
    "pred['Transfer_no_struct'] = 1 - pred_clinvar.values\n",
    "\n",
    "# Individual features\n",
    "for feat in list(set(pos_feats) - set(aa_feats)):\n",
    "    pred[feat] = x[feat]\n",
    "for feat in list(set(neg_feats) - set(aa_feats)):\n",
    "    pred[feat] = -x[feat]\n",
    "\n",
    "feat_list = pos_feats + neg_feats"
   ]
  },
  {
   "cell_type": "code",
   "execution_count": 14,
   "id": "0f7f25f0-7e0f-4400-90c4-9656dcbaaaaa",
   "metadata": {},
   "outputs": [
    {
     "name": "stdout",
     "output_type": "stream",
     "text": [
      "274 genes used to calculate per gene AUROC out of 1298 genes\n",
      "Calculating...\n"
     ]
    },
    {
     "name": "stderr",
     "output_type": "stream",
     "text": [
      "100%|██████████| 274/274 [00:04<00:00, 57.25it/s]\n"
     ]
    },
    {
     "data": {
      "text/html": [
       "<div>\n",
       "<style scoped>\n",
       "    .dataframe tbody tr th:only-of-type {\n",
       "        vertical-align: middle;\n",
       "    }\n",
       "\n",
       "    .dataframe tbody tr th {\n",
       "        vertical-align: top;\n",
       "    }\n",
       "\n",
       "    .dataframe thead th {\n",
       "        text-align: right;\n",
       "    }\n",
       "</style>\n",
       "<table border=\"1\" class=\"dataframe\">\n",
       "  <thead>\n",
       "    <tr style=\"text-align: right;\">\n",
       "      <th></th>\n",
       "      <th>Transfer</th>\n",
       "      <th>Transfer_no_struct</th>\n",
       "      <th>Transfer_no_msa</th>\n",
       "      <th>EVE_scores_ASM</th>\n",
       "      <th>evolutionary_index_ASM</th>\n",
       "      <th>esm_1v</th>\n",
       "      <th>100verte_wt_freq</th>\n",
       "      <th>conditioned_mt_score</th>\n",
       "      <th>vanilla_protmpnn_norm</th>\n",
       "      <th>ca_protmpnn_norm</th>\n",
       "      <th>ca_only_protmpnn_norm</th>\n",
       "      <th>100verte_mut_freq</th>\n",
       "      <th>conditioned_wt_score</th>\n",
       "      <th>30mammal_wt_freq</th>\n",
       "      <th>30mammal_mut_freq</th>\n",
       "      <th>30mammal_gap_freq</th>\n",
       "      <th>100verte_gap_freq</th>\n",
       "      <th>n</th>\n",
       "      <th>n_pos</th>\n",
       "      <th>n_neg</th>\n",
       "    </tr>\n",
       "  </thead>\n",
       "  <tbody>\n",
       "    <tr>\n",
       "      <th>Global_AUROC</th>\n",
       "      <td>0.9343</td>\n",
       "      <td>0.9301</td>\n",
       "      <td>0.9254</td>\n",
       "      <td>0.8896</td>\n",
       "      <td>0.8860</td>\n",
       "      <td>0.8742</td>\n",
       "      <td>0.8649</td>\n",
       "      <td>0.8257</td>\n",
       "      <td>0.7813</td>\n",
       "      <td>0.7812</td>\n",
       "      <td>0.7649</td>\n",
       "      <td>0.7454</td>\n",
       "      <td>0.7194</td>\n",
       "      <td>0.7101</td>\n",
       "      <td>0.6195</td>\n",
       "      <td>0.4869</td>\n",
       "      <td>0.3345</td>\n",
       "      <td>NaN</td>\n",
       "      <td>NaN</td>\n",
       "      <td>NaN</td>\n",
       "    </tr>\n",
       "    <tr>\n",
       "      <th>Avg_per_gene_AUROC</th>\n",
       "      <td>0.9339</td>\n",
       "      <td>0.9323</td>\n",
       "      <td>0.9247</td>\n",
       "      <td>0.9193</td>\n",
       "      <td>0.9196</td>\n",
       "      <td>0.8765</td>\n",
       "      <td>0.8649</td>\n",
       "      <td>0.8438</td>\n",
       "      <td>0.7648</td>\n",
       "      <td>0.7626</td>\n",
       "      <td>0.7458</td>\n",
       "      <td>0.7529</td>\n",
       "      <td>0.8073</td>\n",
       "      <td>0.7027</td>\n",
       "      <td>0.6254</td>\n",
       "      <td>0.4781</td>\n",
       "      <td>0.3371</td>\n",
       "      <td>53.9927</td>\n",
       "      <td>28.0401</td>\n",
       "      <td>25.9526</td>\n",
       "    </tr>\n",
       "    <tr>\n",
       "      <th>ABCA3</th>\n",
       "      <td>0.9479</td>\n",
       "      <td>0.9375</td>\n",
       "      <td>0.9375</td>\n",
       "      <td>0.9844</td>\n",
       "      <td>0.9844</td>\n",
       "      <td>0.6667</td>\n",
       "      <td>0.8594</td>\n",
       "      <td>0.8958</td>\n",
       "      <td>0.9635</td>\n",
       "      <td>0.9479</td>\n",
       "      <td>0.8854</td>\n",
       "      <td>0.9115</td>\n",
       "      <td>0.7396</td>\n",
       "      <td>0.8438</td>\n",
       "      <td>0.8620</td>\n",
       "      <td>0.4740</td>\n",
       "      <td>0.5312</td>\n",
       "      <td>28.0000</td>\n",
       "      <td>12.0000</td>\n",
       "      <td>16.0000</td>\n",
       "    </tr>\n",
       "    <tr>\n",
       "      <th>ABCA4</th>\n",
       "      <td>0.9515</td>\n",
       "      <td>0.9497</td>\n",
       "      <td>0.9382</td>\n",
       "      <td>0.9466</td>\n",
       "      <td>0.9466</td>\n",
       "      <td>0.7832</td>\n",
       "      <td>0.9423</td>\n",
       "      <td>0.9141</td>\n",
       "      <td>0.8893</td>\n",
       "      <td>0.8745</td>\n",
       "      <td>0.8235</td>\n",
       "      <td>0.9160</td>\n",
       "      <td>0.8646</td>\n",
       "      <td>0.9137</td>\n",
       "      <td>0.7161</td>\n",
       "      <td>0.5062</td>\n",
       "      <td>0.3337</td>\n",
       "      <td>283.0000</td>\n",
       "      <td>16.0000</td>\n",
       "      <td>267.0000</td>\n",
       "    </tr>\n",
       "    <tr>\n",
       "      <th>ABCC8</th>\n",
       "      <td>0.9736</td>\n",
       "      <td>0.9665</td>\n",
       "      <td>0.9648</td>\n",
       "      <td>0.9437</td>\n",
       "      <td>0.9489</td>\n",
       "      <td>0.9049</td>\n",
       "      <td>0.9102</td>\n",
       "      <td>0.8398</td>\n",
       "      <td>0.7817</td>\n",
       "      <td>0.8398</td>\n",
       "      <td>0.8486</td>\n",
       "      <td>0.7447</td>\n",
       "      <td>0.8697</td>\n",
       "      <td>0.5625</td>\n",
       "      <td>0.5625</td>\n",
       "      <td>0.6294</td>\n",
       "      <td>0.3512</td>\n",
       "      <td>79.0000</td>\n",
       "      <td>8.0000</td>\n",
       "      <td>71.0000</td>\n",
       "    </tr>\n",
       "    <tr>\n",
       "      <th>...</th>\n",
       "      <td>...</td>\n",
       "      <td>...</td>\n",
       "      <td>...</td>\n",
       "      <td>...</td>\n",
       "      <td>...</td>\n",
       "      <td>...</td>\n",
       "      <td>...</td>\n",
       "      <td>...</td>\n",
       "      <td>...</td>\n",
       "      <td>...</td>\n",
       "      <td>...</td>\n",
       "      <td>...</td>\n",
       "      <td>...</td>\n",
       "      <td>...</td>\n",
       "      <td>...</td>\n",
       "      <td>...</td>\n",
       "      <td>...</td>\n",
       "      <td>...</td>\n",
       "      <td>...</td>\n",
       "      <td>...</td>\n",
       "    </tr>\n",
       "    <tr>\n",
       "      <th>WFS1</th>\n",
       "      <td>0.9048</td>\n",
       "      <td>0.9351</td>\n",
       "      <td>0.8939</td>\n",
       "      <td>0.9589</td>\n",
       "      <td>0.9589</td>\n",
       "      <td>0.5455</td>\n",
       "      <td>0.9177</td>\n",
       "      <td>0.8658</td>\n",
       "      <td>0.7619</td>\n",
       "      <td>0.7359</td>\n",
       "      <td>0.7056</td>\n",
       "      <td>0.6667</td>\n",
       "      <td>0.7771</td>\n",
       "      <td>0.6656</td>\n",
       "      <td>0.5455</td>\n",
       "      <td>0.3831</td>\n",
       "      <td>0.3874</td>\n",
       "      <td>53.0000</td>\n",
       "      <td>11.0000</td>\n",
       "      <td>42.0000</td>\n",
       "    </tr>\n",
       "    <tr>\n",
       "      <th>WWOX</th>\n",
       "      <td>0.7347</td>\n",
       "      <td>0.7551</td>\n",
       "      <td>0.6939</td>\n",
       "      <td>0.6735</td>\n",
       "      <td>0.6327</td>\n",
       "      <td>0.7347</td>\n",
       "      <td>0.5000</td>\n",
       "      <td>0.6327</td>\n",
       "      <td>0.3265</td>\n",
       "      <td>0.4082</td>\n",
       "      <td>0.3469</td>\n",
       "      <td>0.5714</td>\n",
       "      <td>0.7551</td>\n",
       "      <td>0.5714</td>\n",
       "      <td>0.5000</td>\n",
       "      <td>0.4286</td>\n",
       "      <td>0.3980</td>\n",
       "      <td>14.0000</td>\n",
       "      <td>7.0000</td>\n",
       "      <td>7.0000</td>\n",
       "    </tr>\n",
       "    <tr>\n",
       "      <th>ZC4H2</th>\n",
       "      <td>1.0000</td>\n",
       "      <td>1.0000</td>\n",
       "      <td>1.0000</td>\n",
       "      <td>1.0000</td>\n",
       "      <td>1.0000</td>\n",
       "      <td>0.9500</td>\n",
       "      <td>0.6250</td>\n",
       "      <td>0.9000</td>\n",
       "      <td>0.9000</td>\n",
       "      <td>0.8750</td>\n",
       "      <td>0.8500</td>\n",
       "      <td>0.5000</td>\n",
       "      <td>0.9250</td>\n",
       "      <td>0.5000</td>\n",
       "      <td>0.5000</td>\n",
       "      <td>0.3750</td>\n",
       "      <td>0.7125</td>\n",
       "      <td>14.0000</td>\n",
       "      <td>4.0000</td>\n",
       "      <td>10.0000</td>\n",
       "    </tr>\n",
       "    <tr>\n",
       "      <th>ZEB2</th>\n",
       "      <td>1.0000</td>\n",
       "      <td>1.0000</td>\n",
       "      <td>1.0000</td>\n",
       "      <td>0.9988</td>\n",
       "      <td>0.9988</td>\n",
       "      <td>1.0000</td>\n",
       "      <td>0.9051</td>\n",
       "      <td>0.8872</td>\n",
       "      <td>0.9292</td>\n",
       "      <td>0.9471</td>\n",
       "      <td>0.9327</td>\n",
       "      <td>0.6392</td>\n",
       "      <td>0.9528</td>\n",
       "      <td>0.5823</td>\n",
       "      <td>0.5190</td>\n",
       "      <td>0.4873</td>\n",
       "      <td>0.1948</td>\n",
       "      <td>101.0000</td>\n",
       "      <td>79.0000</td>\n",
       "      <td>22.0000</td>\n",
       "    </tr>\n",
       "    <tr>\n",
       "      <th>ZMIZ1</th>\n",
       "      <td>0.6750</td>\n",
       "      <td>0.7375</td>\n",
       "      <td>0.6625</td>\n",
       "      <td>0.7500</td>\n",
       "      <td>0.7500</td>\n",
       "      <td>0.6875</td>\n",
       "      <td>0.5812</td>\n",
       "      <td>0.7375</td>\n",
       "      <td>0.5750</td>\n",
       "      <td>0.4625</td>\n",
       "      <td>0.7000</td>\n",
       "      <td>0.5750</td>\n",
       "      <td>0.8000</td>\n",
       "      <td>0.5000</td>\n",
       "      <td>0.5000</td>\n",
       "      <td>0.6250</td>\n",
       "      <td>0.8062</td>\n",
       "      <td>24.0000</td>\n",
       "      <td>20.0000</td>\n",
       "      <td>4.0000</td>\n",
       "    </tr>\n",
       "  </tbody>\n",
       "</table>\n",
       "<p>276 rows × 20 columns</p>\n",
       "</div>"
      ],
      "text/plain": [
       "                    Transfer  Transfer_no_struct  Transfer_no_msa  \\\n",
       "Global_AUROC          0.9343              0.9301           0.9254   \n",
       "Avg_per_gene_AUROC    0.9339              0.9323           0.9247   \n",
       "ABCA3                 0.9479              0.9375           0.9375   \n",
       "ABCA4                 0.9515              0.9497           0.9382   \n",
       "ABCC8                 0.9736              0.9665           0.9648   \n",
       "...                      ...                 ...              ...   \n",
       "WFS1                  0.9048              0.9351           0.8939   \n",
       "WWOX                  0.7347              0.7551           0.6939   \n",
       "ZC4H2                 1.0000              1.0000           1.0000   \n",
       "ZEB2                  1.0000              1.0000           1.0000   \n",
       "ZMIZ1                 0.6750              0.7375           0.6625   \n",
       "\n",
       "                    EVE_scores_ASM  evolutionary_index_ASM  esm_1v  \\\n",
       "Global_AUROC                0.8896                  0.8860  0.8742   \n",
       "Avg_per_gene_AUROC          0.9193                  0.9196  0.8765   \n",
       "ABCA3                       0.9844                  0.9844  0.6667   \n",
       "ABCA4                       0.9466                  0.9466  0.7832   \n",
       "ABCC8                       0.9437                  0.9489  0.9049   \n",
       "...                            ...                     ...     ...   \n",
       "WFS1                        0.9589                  0.9589  0.5455   \n",
       "WWOX                        0.6735                  0.6327  0.7347   \n",
       "ZC4H2                       1.0000                  1.0000  0.9500   \n",
       "ZEB2                        0.9988                  0.9988  1.0000   \n",
       "ZMIZ1                       0.7500                  0.7500  0.6875   \n",
       "\n",
       "                    100verte_wt_freq  conditioned_mt_score  \\\n",
       "Global_AUROC                  0.8649                0.8257   \n",
       "Avg_per_gene_AUROC            0.8649                0.8438   \n",
       "ABCA3                         0.8594                0.8958   \n",
       "ABCA4                         0.9423                0.9141   \n",
       "ABCC8                         0.9102                0.8398   \n",
       "...                              ...                   ...   \n",
       "WFS1                          0.9177                0.8658   \n",
       "WWOX                          0.5000                0.6327   \n",
       "ZC4H2                         0.6250                0.9000   \n",
       "ZEB2                          0.9051                0.8872   \n",
       "ZMIZ1                         0.5812                0.7375   \n",
       "\n",
       "                    vanilla_protmpnn_norm  ca_protmpnn_norm  \\\n",
       "Global_AUROC                       0.7813            0.7812   \n",
       "Avg_per_gene_AUROC                 0.7648            0.7626   \n",
       "ABCA3                              0.9635            0.9479   \n",
       "ABCA4                              0.8893            0.8745   \n",
       "ABCC8                              0.7817            0.8398   \n",
       "...                                   ...               ...   \n",
       "WFS1                               0.7619            0.7359   \n",
       "WWOX                               0.3265            0.4082   \n",
       "ZC4H2                              0.9000            0.8750   \n",
       "ZEB2                               0.9292            0.9471   \n",
       "ZMIZ1                              0.5750            0.4625   \n",
       "\n",
       "                    ca_only_protmpnn_norm  100verte_mut_freq  \\\n",
       "Global_AUROC                       0.7649             0.7454   \n",
       "Avg_per_gene_AUROC                 0.7458             0.7529   \n",
       "ABCA3                              0.8854             0.9115   \n",
       "ABCA4                              0.8235             0.9160   \n",
       "ABCC8                              0.8486             0.7447   \n",
       "...                                   ...                ...   \n",
       "WFS1                               0.7056             0.6667   \n",
       "WWOX                               0.3469             0.5714   \n",
       "ZC4H2                              0.8500             0.5000   \n",
       "ZEB2                               0.9327             0.6392   \n",
       "ZMIZ1                              0.7000             0.5750   \n",
       "\n",
       "                    conditioned_wt_score  30mammal_wt_freq  30mammal_mut_freq  \\\n",
       "Global_AUROC                      0.7194            0.7101             0.6195   \n",
       "Avg_per_gene_AUROC                0.8073            0.7027             0.6254   \n",
       "ABCA3                             0.7396            0.8438             0.8620   \n",
       "ABCA4                             0.8646            0.9137             0.7161   \n",
       "ABCC8                             0.8697            0.5625             0.5625   \n",
       "...                                  ...               ...                ...   \n",
       "WFS1                              0.7771            0.6656             0.5455   \n",
       "WWOX                              0.7551            0.5714             0.5000   \n",
       "ZC4H2                             0.9250            0.5000             0.5000   \n",
       "ZEB2                              0.9528            0.5823             0.5190   \n",
       "ZMIZ1                             0.8000            0.5000             0.5000   \n",
       "\n",
       "                    30mammal_gap_freq  100verte_gap_freq         n    n_pos  \\\n",
       "Global_AUROC                   0.4869             0.3345       NaN      NaN   \n",
       "Avg_per_gene_AUROC             0.4781             0.3371   53.9927  28.0401   \n",
       "ABCA3                          0.4740             0.5312   28.0000  12.0000   \n",
       "ABCA4                          0.5062             0.3337  283.0000  16.0000   \n",
       "ABCC8                          0.6294             0.3512   79.0000   8.0000   \n",
       "...                               ...                ...       ...      ...   \n",
       "WFS1                           0.3831             0.3874   53.0000  11.0000   \n",
       "WWOX                           0.4286             0.3980   14.0000   7.0000   \n",
       "ZC4H2                          0.3750             0.7125   14.0000   4.0000   \n",
       "ZEB2                           0.4873             0.1948  101.0000  79.0000   \n",
       "ZMIZ1                          0.6250             0.8062   24.0000  20.0000   \n",
       "\n",
       "                       n_neg  \n",
       "Global_AUROC             NaN  \n",
       "Avg_per_gene_AUROC   25.9526  \n",
       "ABCA3                16.0000  \n",
       "ABCA4               267.0000  \n",
       "ABCC8                71.0000  \n",
       "...                      ...  \n",
       "WFS1                 42.0000  \n",
       "WWOX                  7.0000  \n",
       "ZC4H2                10.0000  \n",
       "ZEB2                 22.0000  \n",
       "ZMIZ1                 4.0000  \n",
       "\n",
       "[276 rows x 20 columns]"
      ]
     },
     "execution_count": 14,
     "metadata": {},
     "output_type": "execute_result"
    }
   ],
   "source": [
    "# Get per gene AUROC\n",
    "roc_by_gene = get_per_gene_auroc(y, pred)\n",
    "\n",
    "# Add global AUROC\n",
    "roc_by_gene.insert(loc = 0, column = 'Global_AUROC', \n",
    "                   value = [np.nan, np.nan, np.nan] + \\\n",
    "                           [float(roc_auc_score(y, pred[feat])) for feat in pred.columns])\n",
    "roc_by_gene = roc_by_gene.sort_values('Global_AUROC', ascending = False).round(4)\n",
    "\n",
    "# Transpose the dataframe\n",
    "roc_by_gene = roc_by_gene.transpose()\n",
    "roc_by_gene"
   ]
  },
  {
   "attachments": {},
   "cell_type": "markdown",
   "id": "5bcf3ec4",
   "metadata": {},
   "source": [
    "#### High quality Clinvar set and benchmark against REVEL\n"
   ]
  },
  {
   "cell_type": "code",
   "execution_count": 15,
   "id": "104ab047",
   "metadata": {},
   "outputs": [],
   "source": [
    "hq_clinvar = pd.read_csv('./data/since2017_one_star_REVEL_clinvar.csv').drop('ClinicalSignificance', axis = 1).drop_duplicates().dropna(axis = 0)"
   ]
  },
  {
   "cell_type": "code",
   "execution_count": 16,
   "id": "f1576252",
   "metadata": {},
   "outputs": [],
   "source": [
    "hq_clinvar['mutant'] = hq_clinvar['GeneSymbol'] + '_' + hq_clinvar['mutant']"
   ]
  },
  {
   "cell_type": "code",
   "execution_count": 17,
   "id": "ab6817bb",
   "metadata": {},
   "outputs": [],
   "source": [
    "hq_y = pd.DataFrame(index = x.index)\n",
    "hq_y = hq_y.merge(hq_clinvar[['mutant', 'label']], left_index = True, right_on = 'mutant', how = 'inner')\n",
    "hq_y = hq_y.set_index('mutant')\n",
    "hq_x = x.loc[hq_y.index]"
   ]
  },
  {
   "cell_type": "code",
   "execution_count": 18,
   "id": "97f6baee",
   "metadata": {},
   "outputs": [],
   "source": [
    "hq_x = hq_x.merge(hq_clinvar[['mutant', 'REVEL']].set_index('mutant'), \n",
    "                  left_index = True, right_index = True, how = 'left')"
   ]
  },
  {
   "cell_type": "code",
   "execution_count": 19,
   "id": "1cc81c9f",
   "metadata": {},
   "outputs": [],
   "source": [
    "hq_y.to_csv('./data/since2017_one_star_REVEL_clinvar_y.csv')"
   ]
  },
  {
   "cell_type": "code",
   "execution_count": 20,
   "id": "9d38ed22",
   "metadata": {},
   "outputs": [
    {
     "name": "stdout",
     "output_type": "stream",
     "text": [
      "Features selected on DMS ['esm_1v', 'evolutionary_index_ASM', '100verte_mut_freq', '30mammal_mut_freq', 'vanilla_protmpnn_norm', 'conditioned_wt_score', 'BLOSUM1', 'ST6', 'VHSE6']\n"
     ]
    }
   ],
   "source": [
    "# Construct prediction matrix\n",
    "pred_hq = pd.DataFrame(index = hq_y.index)\n",
    "\n",
    "cpt = CPTClassifier()\n",
    "# Transfer model predictions\n",
    "features = feat_selected_dms\n",
    "print('Features selected on DMS', features)\n",
    "cpt.train(feat_mat, label, all_genes, features)\n",
    "pred_clinvar = cpt.predict(hq_x[features])\n",
    "pred_hq['Transfer'] = 1 - pred_clinvar.values\n",
    "\n",
    "# pred_hq['VESPAl'] = pred_VESPAl.loc[hq_x.index]\n",
    "# pred_hq['GEMME'] = -pred_GEMME.loc[hq_x.index]\n",
    "\n",
    "# Individual features\n",
    "for feat in list(set(pos_feats + ['REVEL']) - set(aa_feats)):\n",
    "    pred_hq[feat] = hq_x[feat]\n",
    "for feat in list(set(neg_feats) - set(aa_feats)):\n",
    "    pred_hq[feat] = -hq_x[feat]\n",
    "\n",
    "feat_list = pos_feats + neg_feats"
   ]
  },
  {
   "cell_type": "code",
   "execution_count": 21,
   "id": "ca3321b4",
   "metadata": {},
   "outputs": [
    {
     "name": "stdout",
     "output_type": "stream",
     "text": [
      "101 genes used to calculate per gene AUROC out of 407 genes\n",
      "Calculating...\n"
     ]
    },
    {
     "name": "stderr",
     "output_type": "stream",
     "text": [
      "100%|██████████| 101/101 [00:01<00:00, 57.72it/s]\n"
     ]
    },
    {
     "data": {
      "text/html": [
       "<div>\n",
       "<style scoped>\n",
       "    .dataframe tbody tr th:only-of-type {\n",
       "        vertical-align: middle;\n",
       "    }\n",
       "\n",
       "    .dataframe tbody tr th {\n",
       "        vertical-align: top;\n",
       "    }\n",
       "\n",
       "    .dataframe thead th {\n",
       "        text-align: right;\n",
       "    }\n",
       "</style>\n",
       "<table border=\"1\" class=\"dataframe\">\n",
       "  <thead>\n",
       "    <tr style=\"text-align: right;\">\n",
       "      <th></th>\n",
       "      <th>Transfer</th>\n",
       "      <th>REVEL</th>\n",
       "      <th>EVE_scores_ASM</th>\n",
       "      <th>evolutionary_index_ASM</th>\n",
       "      <th>100verte_wt_freq</th>\n",
       "      <th>esm_1v</th>\n",
       "      <th>conditioned_mt_score</th>\n",
       "      <th>100verte_mut_freq</th>\n",
       "      <th>conditioned_wt_score</th>\n",
       "      <th>30mammal_wt_freq</th>\n",
       "      <th>vanilla_protmpnn_norm</th>\n",
       "      <th>ca_protmpnn_norm</th>\n",
       "      <th>ca_only_protmpnn_norm</th>\n",
       "      <th>30mammal_mut_freq</th>\n",
       "      <th>30mammal_gap_freq</th>\n",
       "      <th>100verte_gap_freq</th>\n",
       "      <th>n</th>\n",
       "      <th>n_pos</th>\n",
       "      <th>n_neg</th>\n",
       "    </tr>\n",
       "  </thead>\n",
       "  <tbody>\n",
       "    <tr>\n",
       "      <th>Global_AUROC</th>\n",
       "      <td>0.9187</td>\n",
       "      <td>0.9007</td>\n",
       "      <td>0.8848</td>\n",
       "      <td>0.8787</td>\n",
       "      <td>0.8728</td>\n",
       "      <td>0.8699</td>\n",
       "      <td>0.7898</td>\n",
       "      <td>0.7625</td>\n",
       "      <td>0.7402</td>\n",
       "      <td>0.7280</td>\n",
       "      <td>0.7201</td>\n",
       "      <td>0.7198</td>\n",
       "      <td>0.7131</td>\n",
       "      <td>0.6326</td>\n",
       "      <td>0.4832</td>\n",
       "      <td>0.3183</td>\n",
       "      <td>NaN</td>\n",
       "      <td>NaN</td>\n",
       "      <td>NaN</td>\n",
       "    </tr>\n",
       "    <tr>\n",
       "      <th>Avg_per_gene_AUROC</th>\n",
       "      <td>0.9358</td>\n",
       "      <td>0.9111</td>\n",
       "      <td>0.9154</td>\n",
       "      <td>0.9168</td>\n",
       "      <td>0.8645</td>\n",
       "      <td>0.8814</td>\n",
       "      <td>0.8357</td>\n",
       "      <td>0.7357</td>\n",
       "      <td>0.7979</td>\n",
       "      <td>0.6801</td>\n",
       "      <td>0.7028</td>\n",
       "      <td>0.7012</td>\n",
       "      <td>0.6942</td>\n",
       "      <td>0.6120</td>\n",
       "      <td>0.4651</td>\n",
       "      <td>0.3675</td>\n",
       "      <td>18.1881</td>\n",
       "      <td>12.7228</td>\n",
       "      <td>5.4653</td>\n",
       "    </tr>\n",
       "    <tr>\n",
       "      <th>AASS</th>\n",
       "      <td>1.0000</td>\n",
       "      <td>1.0000</td>\n",
       "      <td>0.7500</td>\n",
       "      <td>0.7500</td>\n",
       "      <td>0.9688</td>\n",
       "      <td>1.0000</td>\n",
       "      <td>0.6875</td>\n",
       "      <td>0.8125</td>\n",
       "      <td>0.6250</td>\n",
       "      <td>0.7500</td>\n",
       "      <td>0.6875</td>\n",
       "      <td>0.6250</td>\n",
       "      <td>0.3750</td>\n",
       "      <td>0.7500</td>\n",
       "      <td>0.4375</td>\n",
       "      <td>0.5312</td>\n",
       "      <td>10.0000</td>\n",
       "      <td>8.0000</td>\n",
       "      <td>2.0000</td>\n",
       "    </tr>\n",
       "    <tr>\n",
       "      <th>ABL1</th>\n",
       "      <td>0.9399</td>\n",
       "      <td>0.9765</td>\n",
       "      <td>0.9455</td>\n",
       "      <td>0.9465</td>\n",
       "      <td>0.9352</td>\n",
       "      <td>0.8770</td>\n",
       "      <td>0.8507</td>\n",
       "      <td>0.7324</td>\n",
       "      <td>0.8545</td>\n",
       "      <td>0.7113</td>\n",
       "      <td>0.8479</td>\n",
       "      <td>0.8685</td>\n",
       "      <td>0.8254</td>\n",
       "      <td>0.6056</td>\n",
       "      <td>0.6066</td>\n",
       "      <td>0.2216</td>\n",
       "      <td>86.0000</td>\n",
       "      <td>71.0000</td>\n",
       "      <td>15.0000</td>\n",
       "    </tr>\n",
       "    <tr>\n",
       "      <th>ACTN1</th>\n",
       "      <td>0.9556</td>\n",
       "      <td>0.7556</td>\n",
       "      <td>0.9556</td>\n",
       "      <td>0.9333</td>\n",
       "      <td>0.7778</td>\n",
       "      <td>0.8889</td>\n",
       "      <td>0.7333</td>\n",
       "      <td>0.6667</td>\n",
       "      <td>0.4889</td>\n",
       "      <td>0.5000</td>\n",
       "      <td>0.7333</td>\n",
       "      <td>0.8667</td>\n",
       "      <td>0.7556</td>\n",
       "      <td>0.5000</td>\n",
       "      <td>0.4667</td>\n",
       "      <td>0.4444</td>\n",
       "      <td>18.0000</td>\n",
       "      <td>3.0000</td>\n",
       "      <td>15.0000</td>\n",
       "    </tr>\n",
       "    <tr>\n",
       "      <th>...</th>\n",
       "      <td>...</td>\n",
       "      <td>...</td>\n",
       "      <td>...</td>\n",
       "      <td>...</td>\n",
       "      <td>...</td>\n",
       "      <td>...</td>\n",
       "      <td>...</td>\n",
       "      <td>...</td>\n",
       "      <td>...</td>\n",
       "      <td>...</td>\n",
       "      <td>...</td>\n",
       "      <td>...</td>\n",
       "      <td>...</td>\n",
       "      <td>...</td>\n",
       "      <td>...</td>\n",
       "      <td>...</td>\n",
       "      <td>...</td>\n",
       "      <td>...</td>\n",
       "      <td>...</td>\n",
       "    </tr>\n",
       "    <tr>\n",
       "      <th>WDR4</th>\n",
       "      <td>1.0000</td>\n",
       "      <td>1.0000</td>\n",
       "      <td>1.0000</td>\n",
       "      <td>1.0000</td>\n",
       "      <td>1.0000</td>\n",
       "      <td>1.0000</td>\n",
       "      <td>0.9545</td>\n",
       "      <td>0.8636</td>\n",
       "      <td>1.0000</td>\n",
       "      <td>0.8636</td>\n",
       "      <td>0.5909</td>\n",
       "      <td>0.6818</td>\n",
       "      <td>0.5455</td>\n",
       "      <td>0.6364</td>\n",
       "      <td>0.5000</td>\n",
       "      <td>0.0909</td>\n",
       "      <td>13.0000</td>\n",
       "      <td>11.0000</td>\n",
       "      <td>2.0000</td>\n",
       "    </tr>\n",
       "    <tr>\n",
       "      <th>WDR73</th>\n",
       "      <td>1.0000</td>\n",
       "      <td>1.0000</td>\n",
       "      <td>1.0000</td>\n",
       "      <td>1.0000</td>\n",
       "      <td>1.0000</td>\n",
       "      <td>1.0000</td>\n",
       "      <td>1.0000</td>\n",
       "      <td>1.0000</td>\n",
       "      <td>1.0000</td>\n",
       "      <td>1.0000</td>\n",
       "      <td>0.6667</td>\n",
       "      <td>0.6667</td>\n",
       "      <td>0.5833</td>\n",
       "      <td>0.9167</td>\n",
       "      <td>0.4167</td>\n",
       "      <td>0.4167</td>\n",
       "      <td>8.0000</td>\n",
       "      <td>6.0000</td>\n",
       "      <td>2.0000</td>\n",
       "    </tr>\n",
       "    <tr>\n",
       "      <th>XYLT2</th>\n",
       "      <td>1.0000</td>\n",
       "      <td>0.9167</td>\n",
       "      <td>1.0000</td>\n",
       "      <td>1.0000</td>\n",
       "      <td>1.0000</td>\n",
       "      <td>1.0000</td>\n",
       "      <td>0.9583</td>\n",
       "      <td>0.8750</td>\n",
       "      <td>0.9583</td>\n",
       "      <td>0.6667</td>\n",
       "      <td>1.0000</td>\n",
       "      <td>0.9167</td>\n",
       "      <td>0.9583</td>\n",
       "      <td>0.6667</td>\n",
       "      <td>0.5417</td>\n",
       "      <td>0.6250</td>\n",
       "      <td>14.0000</td>\n",
       "      <td>12.0000</td>\n",
       "      <td>2.0000</td>\n",
       "    </tr>\n",
       "    <tr>\n",
       "      <th>ZIC1</th>\n",
       "      <td>0.8889</td>\n",
       "      <td>0.6667</td>\n",
       "      <td>0.7778</td>\n",
       "      <td>0.7778</td>\n",
       "      <td>0.7222</td>\n",
       "      <td>0.8889</td>\n",
       "      <td>0.6667</td>\n",
       "      <td>0.5833</td>\n",
       "      <td>0.8056</td>\n",
       "      <td>0.5000</td>\n",
       "      <td>0.6667</td>\n",
       "      <td>0.8889</td>\n",
       "      <td>0.8889</td>\n",
       "      <td>0.5000</td>\n",
       "      <td>0.3333</td>\n",
       "      <td>0.2222</td>\n",
       "      <td>9.0000</td>\n",
       "      <td>6.0000</td>\n",
       "      <td>3.0000</td>\n",
       "    </tr>\n",
       "    <tr>\n",
       "      <th>ZMIZ1</th>\n",
       "      <td>0.6750</td>\n",
       "      <td>0.6000</td>\n",
       "      <td>0.7500</td>\n",
       "      <td>0.7500</td>\n",
       "      <td>0.5812</td>\n",
       "      <td>0.6875</td>\n",
       "      <td>0.7375</td>\n",
       "      <td>0.5750</td>\n",
       "      <td>0.8000</td>\n",
       "      <td>0.5000</td>\n",
       "      <td>0.5750</td>\n",
       "      <td>0.4625</td>\n",
       "      <td>0.7000</td>\n",
       "      <td>0.5000</td>\n",
       "      <td>0.6250</td>\n",
       "      <td>0.8062</td>\n",
       "      <td>24.0000</td>\n",
       "      <td>20.0000</td>\n",
       "      <td>4.0000</td>\n",
       "    </tr>\n",
       "  </tbody>\n",
       "</table>\n",
       "<p>103 rows × 19 columns</p>\n",
       "</div>"
      ],
      "text/plain": [
       "                    Transfer   REVEL  EVE_scores_ASM  evolutionary_index_ASM  \\\n",
       "Global_AUROC          0.9187  0.9007          0.8848                  0.8787   \n",
       "Avg_per_gene_AUROC    0.9358  0.9111          0.9154                  0.9168   \n",
       "AASS                  1.0000  1.0000          0.7500                  0.7500   \n",
       "ABL1                  0.9399  0.9765          0.9455                  0.9465   \n",
       "ACTN1                 0.9556  0.7556          0.9556                  0.9333   \n",
       "...                      ...     ...             ...                     ...   \n",
       "WDR4                  1.0000  1.0000          1.0000                  1.0000   \n",
       "WDR73                 1.0000  1.0000          1.0000                  1.0000   \n",
       "XYLT2                 1.0000  0.9167          1.0000                  1.0000   \n",
       "ZIC1                  0.8889  0.6667          0.7778                  0.7778   \n",
       "ZMIZ1                 0.6750  0.6000          0.7500                  0.7500   \n",
       "\n",
       "                    100verte_wt_freq  esm_1v  conditioned_mt_score  \\\n",
       "Global_AUROC                  0.8728  0.8699                0.7898   \n",
       "Avg_per_gene_AUROC            0.8645  0.8814                0.8357   \n",
       "AASS                          0.9688  1.0000                0.6875   \n",
       "ABL1                          0.9352  0.8770                0.8507   \n",
       "ACTN1                         0.7778  0.8889                0.7333   \n",
       "...                              ...     ...                   ...   \n",
       "WDR4                          1.0000  1.0000                0.9545   \n",
       "WDR73                         1.0000  1.0000                1.0000   \n",
       "XYLT2                         1.0000  1.0000                0.9583   \n",
       "ZIC1                          0.7222  0.8889                0.6667   \n",
       "ZMIZ1                         0.5812  0.6875                0.7375   \n",
       "\n",
       "                    100verte_mut_freq  conditioned_wt_score  30mammal_wt_freq  \\\n",
       "Global_AUROC                   0.7625                0.7402            0.7280   \n",
       "Avg_per_gene_AUROC             0.7357                0.7979            0.6801   \n",
       "AASS                           0.8125                0.6250            0.7500   \n",
       "ABL1                           0.7324                0.8545            0.7113   \n",
       "ACTN1                          0.6667                0.4889            0.5000   \n",
       "...                               ...                   ...               ...   \n",
       "WDR4                           0.8636                1.0000            0.8636   \n",
       "WDR73                          1.0000                1.0000            1.0000   \n",
       "XYLT2                          0.8750                0.9583            0.6667   \n",
       "ZIC1                           0.5833                0.8056            0.5000   \n",
       "ZMIZ1                          0.5750                0.8000            0.5000   \n",
       "\n",
       "                    vanilla_protmpnn_norm  ca_protmpnn_norm  \\\n",
       "Global_AUROC                       0.7201            0.7198   \n",
       "Avg_per_gene_AUROC                 0.7028            0.7012   \n",
       "AASS                               0.6875            0.6250   \n",
       "ABL1                               0.8479            0.8685   \n",
       "ACTN1                              0.7333            0.8667   \n",
       "...                                   ...               ...   \n",
       "WDR4                               0.5909            0.6818   \n",
       "WDR73                              0.6667            0.6667   \n",
       "XYLT2                              1.0000            0.9167   \n",
       "ZIC1                               0.6667            0.8889   \n",
       "ZMIZ1                              0.5750            0.4625   \n",
       "\n",
       "                    ca_only_protmpnn_norm  30mammal_mut_freq  \\\n",
       "Global_AUROC                       0.7131             0.6326   \n",
       "Avg_per_gene_AUROC                 0.6942             0.6120   \n",
       "AASS                               0.3750             0.7500   \n",
       "ABL1                               0.8254             0.6056   \n",
       "ACTN1                              0.7556             0.5000   \n",
       "...                                   ...                ...   \n",
       "WDR4                               0.5455             0.6364   \n",
       "WDR73                              0.5833             0.9167   \n",
       "XYLT2                              0.9583             0.6667   \n",
       "ZIC1                               0.8889             0.5000   \n",
       "ZMIZ1                              0.7000             0.5000   \n",
       "\n",
       "                    30mammal_gap_freq  100verte_gap_freq        n    n_pos  \\\n",
       "Global_AUROC                   0.4832             0.3183      NaN      NaN   \n",
       "Avg_per_gene_AUROC             0.4651             0.3675  18.1881  12.7228   \n",
       "AASS                           0.4375             0.5312  10.0000   8.0000   \n",
       "ABL1                           0.6066             0.2216  86.0000  71.0000   \n",
       "ACTN1                          0.4667             0.4444  18.0000   3.0000   \n",
       "...                               ...                ...      ...      ...   \n",
       "WDR4                           0.5000             0.0909  13.0000  11.0000   \n",
       "WDR73                          0.4167             0.4167   8.0000   6.0000   \n",
       "XYLT2                          0.5417             0.6250  14.0000  12.0000   \n",
       "ZIC1                           0.3333             0.2222   9.0000   6.0000   \n",
       "ZMIZ1                          0.6250             0.8062  24.0000  20.0000   \n",
       "\n",
       "                      n_neg  \n",
       "Global_AUROC            NaN  \n",
       "Avg_per_gene_AUROC   5.4653  \n",
       "AASS                 2.0000  \n",
       "ABL1                15.0000  \n",
       "ACTN1               15.0000  \n",
       "...                     ...  \n",
       "WDR4                 2.0000  \n",
       "WDR73                2.0000  \n",
       "XYLT2                2.0000  \n",
       "ZIC1                 3.0000  \n",
       "ZMIZ1                4.0000  \n",
       "\n",
       "[103 rows x 19 columns]"
      ]
     },
     "execution_count": 21,
     "metadata": {},
     "output_type": "execute_result"
    }
   ],
   "source": [
    "# Get per gene AUROC\n",
    "roc_by_gene_hq = get_per_gene_auroc(hq_y, pred_hq, min_neg_sample = 2, min_pos_sample = 2)\n",
    "\n",
    "# Add global AUROC\n",
    "roc_by_gene_hq.insert(loc = 0, column = 'Global_AUROC', \n",
    "                   value = [np.nan, np.nan, np.nan] + \\\n",
    "                           [float(roc_auc_score(hq_y, pred_hq[feat])) for feat in pred_hq.columns])\n",
    "roc_by_gene_hq = roc_by_gene_hq.sort_values('Global_AUROC', ascending = False).round(4)\n",
    "\n",
    "# Transpose the dataframe\n",
    "roc_by_gene_hq = roc_by_gene_hq.transpose()\n",
    "roc_by_gene_hq"
   ]
  },
  {
   "cell_type": "markdown",
   "id": "297fd7f1-5fd3-434c-8040-2faed5a8c003",
   "metadata": {},
   "source": [
    "### Analyze ROC curve"
   ]
  },
  {
   "cell_type": "code",
   "execution_count": 22,
   "id": "a6167637-af41-403c-a01b-0947aed4bf32",
   "metadata": {},
   "outputs": [
    {
     "data": {
      "image/png": "[encoded data removed]",
      "text/plain": [
       "<Figure size 640x480 with 1 Axes>"
      ]
     },
     "metadata": {},
     "output_type": "display_data"
    }
   ],
   "source": [
    "# Figure: analyze ROC curve\n",
    "spec_at_sens = {}\n",
    "sens_at_spec = {}\n",
    "for m in ['EVE_scores_ASM', 'esm_1v', 'Transfer']:\n",
    "    fpr, tpr, _ = roc_curve(y, pred[m])\n",
    "    spec_at_sens[m] = {}\n",
    "    sens_at_spec[m] = {}\n",
    "    for sens in [0.9, 0.95, 0.99]:\n",
    "        spec_at_sens[m]['spec at sens '+str(sens)] = 1 - min(fpr[tpr > sens])\n",
    "    for spec in [0.9, 0.95, 0.99]:\n",
    "        sens_at_spec[m]['sens at spec '+str(spec)] = max(tpr[fpr < (1 - spec)])\n",
    "    auc = round(roc_auc_score(y, pred[m]), 3)\n",
    "    plt.plot(fpr,tpr,label = m + \", \" + \"AUC=\" + str(auc))\n",
    "plt.legend()\n",
    "plt.show()"
   ]
  },
  {
   "cell_type": "code",
   "execution_count": 23,
   "id": "35c1b932-cca8-400e-b894-bb0cf0dd8523",
   "metadata": {},
   "outputs": [
    {
     "data": {
      "text/html": [
       "<div>\n",
       "<style scoped>\n",
       "    .dataframe tbody tr th:only-of-type {\n",
       "        vertical-align: middle;\n",
       "    }\n",
       "\n",
       "    .dataframe tbody tr th {\n",
       "        vertical-align: top;\n",
       "    }\n",
       "\n",
       "    .dataframe thead th {\n",
       "        text-align: right;\n",
       "    }\n",
       "</style>\n",
       "<table border=\"1\" class=\"dataframe\">\n",
       "  <thead>\n",
       "    <tr style=\"text-align: right;\">\n",
       "      <th></th>\n",
       "      <th>EVE_scores_ASM</th>\n",
       "      <th>esm_1v</th>\n",
       "      <th>Transfer</th>\n",
       "    </tr>\n",
       "  </thead>\n",
       "  <tbody>\n",
       "    <tr>\n",
       "      <th>spec at sens 0.9</th>\n",
       "      <td>0.689396</td>\n",
       "      <td>0.498661</td>\n",
       "      <td>0.809410</td>\n",
       "    </tr>\n",
       "    <tr>\n",
       "      <th>spec at sens 0.95</th>\n",
       "      <td>0.548100</td>\n",
       "      <td>0.273181</td>\n",
       "      <td>0.674701</td>\n",
       "    </tr>\n",
       "    <tr>\n",
       "      <th>spec at sens 0.99</th>\n",
       "      <td>0.237640</td>\n",
       "      <td>0.070214</td>\n",
       "      <td>0.371625</td>\n",
       "    </tr>\n",
       "  </tbody>\n",
       "</table>\n",
       "</div>"
      ],
      "text/plain": [
       "                   EVE_scores_ASM    esm_1v  Transfer\n",
       "spec at sens 0.9         0.689396  0.498661  0.809410\n",
       "spec at sens 0.95        0.548100  0.273181  0.674701\n",
       "spec at sens 0.99        0.237640  0.070214  0.371625"
      ]
     },
     "execution_count": 23,
     "metadata": {},
     "output_type": "execute_result"
    }
   ],
   "source": [
    "# Table: specificity at high sensitivity\n",
    "pd.DataFrame(spec_at_sens)"
   ]
  },
  {
   "cell_type": "code",
   "execution_count": 24,
   "id": "7b57e716-29ae-4eb1-8f63-c9a52b726cec",
   "metadata": {},
   "outputs": [
    {
     "data": {
      "text/html": [
       "<div>\n",
       "<style scoped>\n",
       "    .dataframe tbody tr th:only-of-type {\n",
       "        vertical-align: middle;\n",
       "    }\n",
       "\n",
       "    .dataframe tbody tr th {\n",
       "        vertical-align: top;\n",
       "    }\n",
       "\n",
       "    .dataframe thead th {\n",
       "        text-align: right;\n",
       "    }\n",
       "</style>\n",
       "<table border=\"1\" class=\"dataframe\">\n",
       "  <thead>\n",
       "    <tr style=\"text-align: right;\">\n",
       "      <th></th>\n",
       "      <th>EVE_scores_ASM</th>\n",
       "      <th>esm_1v</th>\n",
       "      <th>Transfer</th>\n",
       "    </tr>\n",
       "  </thead>\n",
       "  <tbody>\n",
       "    <tr>\n",
       "      <th>sens at spec 0.9</th>\n",
       "      <td>0.677369</td>\n",
       "      <td>0.746809</td>\n",
       "      <td>0.816054</td>\n",
       "    </tr>\n",
       "    <tr>\n",
       "      <th>sens at spec 0.95</th>\n",
       "      <td>0.512282</td>\n",
       "      <td>0.639942</td>\n",
       "      <td>0.698066</td>\n",
       "    </tr>\n",
       "    <tr>\n",
       "      <th>sens at spec 0.99</th>\n",
       "      <td>0.229787</td>\n",
       "      <td>0.392360</td>\n",
       "      <td>0.446325</td>\n",
       "    </tr>\n",
       "  </tbody>\n",
       "</table>\n",
       "</div>"
      ],
      "text/plain": [
       "                   EVE_scores_ASM    esm_1v  Transfer\n",
       "sens at spec 0.9         0.677369  0.746809  0.816054\n",
       "sens at spec 0.95        0.512282  0.639942  0.698066\n",
       "sens at spec 0.99        0.229787  0.392360  0.446325"
      ]
     },
     "execution_count": 24,
     "metadata": {},
     "output_type": "execute_result"
    }
   ],
   "source": [
    "# Table: sensitivity at high specificity\n",
    "pd.DataFrame(sens_at_spec)"
   ]
  },
  {
   "attachments": {},
   "cell_type": "markdown",
   "id": "d5b5ac7a",
   "metadata": {},
   "source": [
    "#### High quality ClinVar set and benchmark against REVEL"
   ]
  },
  {
   "cell_type": "code",
   "execution_count": 25,
   "id": "5a035499",
   "metadata": {},
   "outputs": [
    {
     "data": {
      "image/png": "[encoded data removed]",
      "text/plain": [
       "<Figure size 640x480 with 1 Axes>"
      ]
     },
     "metadata": {},
     "output_type": "display_data"
    }
   ],
   "source": [
    "spec_at_sens = {}\n",
    "sens_at_spec = {}\n",
    "for m in ['EVE_scores_ASM', 'esm_1v', 'REVEL', 'Transfer']:\n",
    "    fpr, tpr, _ = roc_curve(hq_y, pred_hq[m])\n",
    "    spec_at_sens[m] = {}\n",
    "    sens_at_spec[m] = {}\n",
    "    for sens in [0.9, 0.95, 0.99]:\n",
    "        spec_at_sens[m]['spec at sens '+str(sens)] = 1 - min(fpr[tpr > sens])\n",
    "    for spec in [0.9, 0.95, 0.99]:\n",
    "        sens_at_spec[m]['sens at spec '+str(spec)] = max(tpr[fpr < (1 - spec)])\n",
    "    auc = round(roc_auc_score(hq_y, pred_hq[m]), 3)\n",
    "    plt.plot(fpr,tpr,label = m + \", \" + \"AUC=\" + str(auc))\n",
    "plt.legend()\n",
    "plt.show()"
   ]
  },
  {
   "cell_type": "code",
   "execution_count": 26,
   "id": "8352be09",
   "metadata": {},
   "outputs": [
    {
     "data": {
      "text/html": [
       "<div>\n",
       "<style scoped>\n",
       "    .dataframe tbody tr th:only-of-type {\n",
       "        vertical-align: middle;\n",
       "    }\n",
       "\n",
       "    .dataframe tbody tr th {\n",
       "        vertical-align: top;\n",
       "    }\n",
       "\n",
       "    .dataframe thead th {\n",
       "        text-align: right;\n",
       "    }\n",
       "</style>\n",
       "<table border=\"1\" class=\"dataframe\">\n",
       "  <thead>\n",
       "    <tr style=\"text-align: right;\">\n",
       "      <th></th>\n",
       "      <th>EVE_scores_ASM</th>\n",
       "      <th>esm_1v</th>\n",
       "      <th>REVEL</th>\n",
       "      <th>Transfer</th>\n",
       "    </tr>\n",
       "  </thead>\n",
       "  <tbody>\n",
       "    <tr>\n",
       "      <th>spec at sens 0.9</th>\n",
       "      <td>0.675329</td>\n",
       "      <td>0.501519</td>\n",
       "      <td>0.704354</td>\n",
       "      <td>0.746878</td>\n",
       "    </tr>\n",
       "    <tr>\n",
       "      <th>spec at sens 0.95</th>\n",
       "      <td>0.502531</td>\n",
       "      <td>0.269997</td>\n",
       "      <td>0.569693</td>\n",
       "      <td>0.592980</td>\n",
       "    </tr>\n",
       "    <tr>\n",
       "      <th>spec at sens 0.99</th>\n",
       "      <td>0.243672</td>\n",
       "      <td>0.080661</td>\n",
       "      <td>0.264934</td>\n",
       "      <td>0.263584</td>\n",
       "    </tr>\n",
       "  </tbody>\n",
       "</table>\n",
       "</div>"
      ],
      "text/plain": [
       "                   EVE_scores_ASM    esm_1v     REVEL  Transfer\n",
       "spec at sens 0.9         0.675329  0.501519  0.704354  0.746878\n",
       "spec at sens 0.95        0.502531  0.269997  0.569693  0.592980\n",
       "spec at sens 0.99        0.243672  0.080661  0.264934  0.263584"
      ]
     },
     "execution_count": 26,
     "metadata": {},
     "output_type": "execute_result"
    }
   ],
   "source": [
    "# Table: specificity at high sensitivity\n",
    "pd.DataFrame(spec_at_sens)"
   ]
  },
  {
   "cell_type": "code",
   "execution_count": 27,
   "id": "a81b6ded",
   "metadata": {},
   "outputs": [
    {
     "data": {
      "text/html": [
       "<div>\n",
       "<style scoped>\n",
       "    .dataframe tbody tr th:only-of-type {\n",
       "        vertical-align: middle;\n",
       "    }\n",
       "\n",
       "    .dataframe tbody tr th {\n",
       "        vertical-align: top;\n",
       "    }\n",
       "\n",
       "    .dataframe thead th {\n",
       "        text-align: right;\n",
       "    }\n",
       "</style>\n",
       "<table border=\"1\" class=\"dataframe\">\n",
       "  <thead>\n",
       "    <tr style=\"text-align: right;\">\n",
       "      <th></th>\n",
       "      <th>EVE_scores_ASM</th>\n",
       "      <th>esm_1v</th>\n",
       "      <th>REVEL</th>\n",
       "      <th>Transfer</th>\n",
       "    </tr>\n",
       "  </thead>\n",
       "  <tbody>\n",
       "    <tr>\n",
       "      <th>sens at spec 0.9</th>\n",
       "      <td>0.683944</td>\n",
       "      <td>0.729456</td>\n",
       "      <td>0.713021</td>\n",
       "      <td>0.774968</td>\n",
       "    </tr>\n",
       "    <tr>\n",
       "      <th>sens at spec 0.95</th>\n",
       "      <td>0.489254</td>\n",
       "      <td>0.620733</td>\n",
       "      <td>0.589128</td>\n",
       "      <td>0.643489</td>\n",
       "    </tr>\n",
       "    <tr>\n",
       "      <th>sens at spec 0.99</th>\n",
       "      <td>0.230088</td>\n",
       "      <td>0.396966</td>\n",
       "      <td>0.257901</td>\n",
       "      <td>0.415929</td>\n",
       "    </tr>\n",
       "  </tbody>\n",
       "</table>\n",
       "</div>"
      ],
      "text/plain": [
       "                   EVE_scores_ASM    esm_1v     REVEL  Transfer\n",
       "sens at spec 0.9         0.683944  0.729456  0.713021  0.774968\n",
       "sens at spec 0.95        0.489254  0.620733  0.589128  0.643489\n",
       "sens at spec 0.99        0.230088  0.396966  0.257901  0.415929"
      ]
     },
     "execution_count": 27,
     "metadata": {},
     "output_type": "execute_result"
    }
   ],
   "source": [
    "# Table: sensitivity at high specificity\n",
    "pd.DataFrame(sens_at_spec)"
   ]
  },
  {
   "cell_type": "markdown",
   "id": "3849e635-6a8e-437b-b999-c6bf9fcdac53",
   "metadata": {},
   "source": [
    "### Number of training genes vs performance"
   ]
  },
  {
   "cell_type": "code",
   "execution_count": 28,
   "id": "e50b886a-3a9d-4cab-b242-acf7294ccdd6",
   "metadata": {},
   "outputs": [
    {
     "name": "stdout",
     "output_type": "stream",
     "text": [
      "274 genes used to calculate per gene AUROC out of 1298 genes\n",
      "Calculating...\n"
     ]
    },
    {
     "name": "stderr",
     "output_type": "stream",
     "text": [
      "100%|██████████| 274/274 [00:08<00:00, 30.64it/s]\n"
     ]
    }
   ],
   "source": [
    "# Get the prediction matrix\n",
    "pred_ntrain = pd.DataFrame(index = y.index)\n",
    "features = feat_selected_dms\n",
    "cpt = CPTClassifier()\n",
    "\n",
    "pset_genes = powerset(all_genes)\n",
    "for genes in pset_genes - {()}:\n",
    "    genes = list(genes)\n",
    "    n_genes = len(genes)\n",
    "    # Transfer model predictions trained on each individual gene\n",
    "    cpt.train(feat_mat, label, genes, features)\n",
    "    pred_clinvar = cpt.predict(x[features])\n",
    "    pred_ntrain['Transfer_' + str(n_genes) + '_' + '+'.join(genes)] = 1 - pred_clinvar.values\n",
    "\n",
    "# Compare with EVE and ESM-1v\n",
    "pred_ntrain['_EVE'] = x['EVE_scores_ASM']\n",
    "pred_ntrain['_ESM-1v'] = -x['esm_1v']\n",
    "    \n",
    "# Get per gene AUROC\n",
    "roc_by_gene_ntrain = get_per_gene_auroc(y, pred_ntrain)\n",
    "\n",
    "# Add global AUROC\n",
    "roc_by_gene_ntrain.insert(loc = 0, column = 'Global_AUROC', \n",
    "                   value = [np.nan, np.nan, np.nan] + \\\n",
    "                           [float(roc_auc_score(y, pred_ntrain[feat])) for feat in pred_ntrain.columns])\n",
    "roc_by_gene_ntrain = roc_by_gene_ntrain.sort_values('Global_AUROC', ascending = False).round(4)\n"
   ]
  },
  {
   "cell_type": "code",
   "execution_count": 29,
   "id": "cf351793-0137-4ba6-9842-0aaefdf2dd93",
   "metadata": {},
   "outputs": [
    {
     "data": {
      "image/png": "[encoded data removed]",
      "text/plain": [
       "<Figure size 1100x400 with 2 Axes>"
      ]
     },
     "metadata": {},
     "output_type": "display_data"
    }
   ],
   "source": [
    "# Figure: Performance with different numbers of training genes\n",
    "df_ntrain = roc_by_gene_ntrain.iloc[:-3, :2]\n",
    "df_ntrain['Number of training genes'] = df_ntrain.index.to_series().str.split('_', expand = True)[1]\n",
    "df_ntrain['Number of training genes'] = pd.Categorical(df_ntrain['Number of training genes'], \n",
    "                                                       ['ESM-1v', 'EVE', '1', '2', '3', '4', '5'])\n",
    "df_ntrain = df_ntrain.sort_values('Number of training genes')\n",
    "df_ntrain_mean = df_ntrain.groupby('Number of training genes').mean().reset_index()\n",
    "order = df_ntrain_mean['Number of training genes']\n",
    "\n",
    "fig, axes = plt.subplots(1, 2, figsize=(11, 4))\n",
    "sns.scatterplot(ax = axes[0], x = \"Number of training genes\", y = \"Global_AUROC\", data = df_ntrain_mean, marker = '_', s = 500, color = 'k')\n",
    "sns.stripplot(ax = axes[0], x = \"Number of training genes\", y = \"Global_AUROC\", data = df_ntrain, order = order, zorder = 0)\n",
    "sns.scatterplot(ax = axes[1], x = \"Number of training genes\", y = \"Avg_per_gene_AUROC\", data = df_ntrain_mean, marker = '_', s = 500, color = 'k')\n",
    "sns.stripplot(ax = axes[1], x = \"Number of training genes\", y = \"Avg_per_gene_AUROC\", data = df_ntrain, order = order, zorder = 0)\n",
    "plt.show()"
   ]
  },
  {
   "attachments": {},
   "cell_type": "markdown",
   "id": "62aebcca",
   "metadata": {},
   "source": [
    "#### Add more proteins from ProteinGym"
   ]
  },
  {
   "cell_type": "code",
   "execution_count": 30,
   "id": "c58189f3",
   "metadata": {},
   "outputs": [],
   "source": [
    "extra_genes = ['KCNH2', 'SCN5A', 'SC6A4', 'RASH', 'SYUA', 'PTEN', \n",
    "               'VKOR1', 'A4', 'P53', 'MSH2', 'TPOR', 'BRCA1', 'YAP1']\n",
    "\n",
    "for gene in extra_genes:\n",
    "    feat_mat[gene] = pd.read_csv(f'./data/additional_dms/feat_mat_{gene}.csv', index_col = 0)\n",
    "    label[gene] = pd.read_csv(f'./data/additional_dms/label_{gene}.csv', index_col = 0)\n",
    "    feat_mat[gene] = feat_mat[gene].loc[label[gene].index]"
   ]
  },
  {
   "cell_type": "code",
   "execution_count": 31,
   "id": "5929e261",
   "metadata": {},
   "outputs": [],
   "source": [
    "# We experimented on adding more genes from proteinGym. \n",
    "max_subsets = 30\n",
    "\n",
    "# Function to check if a subset contains the standard 5 training genes\n",
    "def is_subset(subset, test_set):\n",
    "    return all(item in test_set for item in subset)\n",
    "\n",
    "extra_gene_subsets = []\n",
    "\n",
    "np.random.seed(0)\n",
    "for i in range(1, len(all_genes + extra_genes) + 1):\n",
    "    all_combinations = list(itertools.combinations(all_genes + extra_genes, i))\n",
    "    subset_combinations = [comb for comb in all_combinations if is_subset(comb, all_genes)]\n",
    "    \n",
    "    remaining_combinations = [comb for comb in all_combinations if comb not in subset_combinations]\n",
    "\n",
    "    np.random.seed(0)\n",
    "    sampled_combinations = random.sample(remaining_combinations, \n",
    "                                         min(max_subsets - len(subset_combinations), len(remaining_combinations)))\n",
    "    \n",
    "    # Combine sub_a_combinations and sampled_combinations\n",
    "    extra_gene_subsets.append(sampled_combinations)\n"
   ]
  },
  {
   "cell_type": "code",
   "execution_count": 32,
   "id": "56135d6b",
   "metadata": {},
   "outputs": [
    {
     "name": "stderr",
     "output_type": "stream",
     "text": [
      "Number of genes: 100%|██████████| 18/18 [03:32<00:00, 11.81s/it]\n"
     ]
    },
    {
     "name": "stdout",
     "output_type": "stream",
     "text": [
      "274 genes used to calculate per gene AUROC out of 1298 genes\n",
      "Calculating...\n"
     ]
    },
    {
     "name": "stderr",
     "output_type": "stream",
     "text": [
      "100%|██████████| 274/274 [02:04<00:00,  2.20it/s]\n"
     ]
    }
   ],
   "source": [
    "# Get the prediction matrix\n",
    "pred_ntrain_extra = pd.DataFrame(index = y.index)\n",
    "features = feat_selected_dms\n",
    "cpt = CPTClassifier()\n",
    "\n",
    "for n_genes, subsets in enumerate(tqdm(extra_gene_subsets, desc = 'Number of genes', leave = True)):\n",
    "    n_genes += 1\n",
    "    for genes in tqdm(subsets, desc = 'Subsets', leave = False):\n",
    "        genes = list(genes)\n",
    "        # Transfer model predictions trained on each individual gene\n",
    "        cpt.train(feat_mat, label, genes, features)\n",
    "        pred_clinvar = cpt.predict(x[features])\n",
    "        pred_ntrain_extra['Transfer_' + str(n_genes) + '_' + '+'.join(genes)] = 1 - pred_clinvar.values\n",
    "\n",
    "# Get per gene AUROC\n",
    "roc_by_gene_ntrain_extra = get_per_gene_auroc(y, pred_ntrain_extra)\n",
    "\n",
    "# Add global AUROC\n",
    "roc_by_gene_ntrain_extra.insert(loc = 0, column = 'Global_AUROC', \n",
    "                                value = [np.nan, np.nan, np.nan] + \\\n",
    "                                [float(roc_auc_score(y, pred_ntrain_extra[feat])) for feat in pred_ntrain_extra.columns])\n",
    "roc_by_gene_ntrain_extra = roc_by_gene_ntrain_extra.sort_values('Global_AUROC', ascending = False).round(4)"
   ]
  },
  {
   "cell_type": "code",
   "execution_count": 33,
   "id": "b9c0337b",
   "metadata": {},
   "outputs": [
    {
     "data": {
      "image/png": "[encoded data removed]",
      "text/plain": [
       "<Figure size 2400x800 with 2 Axes>"
      ]
     },
     "metadata": {},
     "output_type": "display_data"
    }
   ],
   "source": [
    "# Figure: Performance with different numbers of training genes\n",
    "df_ntrain_extra = roc_by_gene_ntrain_extra.iloc[:-3, :2]\n",
    "df_ntrain_extra['Number of training genes'] = df_ntrain_extra.index.to_series().str.split('_', expand = True)[1]\n",
    "\n",
    "df_ntrain['Training set'] = 'Only contains the five CPT-1 training proteins'\n",
    "df_ntrain_extra['Training set'] = 'Contains additional training proteins'\n",
    "df_ntrain_extra = pd.concat([df_ntrain_extra, df_ntrain])\n",
    "df_ntrain_extra['Number of training genes'] = pd.Categorical(df_ntrain_extra['Number of training genes'], \n",
    "                                                             ['ESM-1v', 'EVE'] + [str(i+1) for i in range(18)])\n",
    "                                                             \n",
    "df_ntrain_extra = df_ntrain_extra.sort_values('Number of training genes')\n",
    "df_ntrain_mean_extra = df_ntrain_extra.groupby('Number of training genes').mean().reset_index()\n",
    "order = df_ntrain_mean_extra['Number of training genes']\n",
    "\n",
    "fig, axes = plt.subplots(1, 2, figsize=(24, 8))\n",
    "sns.scatterplot(ax = axes[0], x = \"Number of training genes\", y = \"Global_AUROC\", data = df_ntrain_mean, marker = '_', s = 500, \n",
    "                color = 'blue')\n",
    "sns.scatterplot(ax = axes[0], x = \"Number of training genes\", y = \"Global_AUROC\", data = df_ntrain_mean_extra, marker = '_', s = 500, \n",
    "                color = 'orange')\n",
    "sns.stripplot(ax = axes[0], x = \"Number of training genes\", y = \"Global_AUROC\", data = df_ntrain_extra, order = order, zorder = 0, \n",
    "              hue = 'Training set')\n",
    "sns.scatterplot(ax = axes[1], x = \"Number of training genes\", y = \"Avg_per_gene_AUROC\", data = df_ntrain_mean, marker = '_', s = 500, \n",
    "                color = 'blue')\n",
    "sns.scatterplot(ax = axes[1], x = \"Number of training genes\", y = \"Avg_per_gene_AUROC\", data = df_ntrain_mean_extra, marker = '_', s = 500, \n",
    "                color = 'orange')\n",
    "sns.stripplot(ax = axes[1], x = \"Number of training genes\", y = \"Avg_per_gene_AUROC\", data = df_ntrain_extra, order = order, zorder = 0,\n",
    "              hue = 'Training set')\n",
    "plt.show()"
   ]
  },
  {
   "attachments": {},
   "cell_type": "markdown",
   "id": "2d15ea47",
   "metadata": {},
   "source": [
    "#### Add more proteins from ProteinGym (alternative plot)"
   ]
  },
  {
   "cell_type": "code",
   "execution_count": 34,
   "id": "d4b8d086",
   "metadata": {},
   "outputs": [],
   "source": [
    "extra_gene_subsets = []\n",
    "\n",
    "np.random.seed(0)\n",
    "for i in range(1, len(extra_genes) + 1):\n",
    "    all_combinations = list(itertools.combinations(extra_genes, i))\n",
    "    subset_combinations = []\n",
    "    \n",
    "    remaining_combinations = [comb for comb in all_combinations if comb not in subset_combinations]\n",
    "\n",
    "    np.random.seed(0)\n",
    "    sampled_combinations = random.sample(remaining_combinations, \n",
    "                                         min(max_subsets - len(subset_combinations), len(remaining_combinations)))\n",
    "    \n",
    "    # Combine sub_a_combinations and sampled_combinations\n",
    "    extra_gene_subsets.append(sampled_combinations)"
   ]
  },
  {
   "cell_type": "code",
   "execution_count": 35,
   "id": "0749d09d",
   "metadata": {},
   "outputs": [
    {
     "name": "stderr",
     "output_type": "stream",
     "text": [
      "Number of genes: 100%|██████████| 13/13 [01:58<00:00,  9.15s/it]\n"
     ]
    },
    {
     "name": "stdout",
     "output_type": "stream",
     "text": [
      "274 genes used to calculate per gene AUROC out of 1298 genes\n",
      "Calculating...\n"
     ]
    },
    {
     "name": "stderr",
     "output_type": "stream",
     "text": [
      "100%|██████████| 274/274 [01:25<00:00,  3.20it/s]\n"
     ]
    }
   ],
   "source": [
    "# Get the prediction matrix\n",
    "pred_ntrain_extra = pd.DataFrame(index = y.index)\n",
    "features = feat_selected_dms\n",
    "cpt = CPTClassifier()\n",
    "\n",
    "for n_genes, subsets in enumerate(tqdm(extra_gene_subsets, desc = 'Number of genes', leave = True)):\n",
    "    n_genes += 1\n",
    "    for genes in tqdm(subsets, desc = 'Subsets', leave = False):\n",
    "        genes = list(genes)\n",
    "        # Transfer model predictions trained on each individual gene\n",
    "        cpt.train(feat_mat, label, genes, features)\n",
    "        pred_clinvar = cpt.predict(x[features])\n",
    "        pred_ntrain_extra['Transfer_' + str(n_genes) + '_' + '+'.join(genes)] = 1 - pred_clinvar.values\n",
    "\n",
    "# Get per gene AUROC\n",
    "roc_by_gene_ntrain_extra = get_per_gene_auroc(y, pred_ntrain_extra)\n",
    "\n",
    "# Add global AUROC\n",
    "roc_by_gene_ntrain_extra.insert(loc = 0, column = 'Global_AUROC', \n",
    "                                value = [np.nan, np.nan, np.nan] + \\\n",
    "                                [float(roc_auc_score(y, pred_ntrain_extra[feat])) for feat in pred_ntrain_extra.columns])\n",
    "roc_by_gene_ntrain_extra = roc_by_gene_ntrain_extra.sort_values('Global_AUROC', ascending = False).round(4)"
   ]
  },
  {
   "cell_type": "code",
   "execution_count": 36,
   "id": "29f9bfd1",
   "metadata": {},
   "outputs": [
    {
     "data": {
      "image/png": "[encoded data removed]",
      "text/plain": [
       "<Figure size 2400x800 with 2 Axes>"
      ]
     },
     "metadata": {},
     "output_type": "display_data"
    }
   ],
   "source": [
    "# Figure: Performance with different numbers of training genes\n",
    "df_ntrain_extra = roc_by_gene_ntrain_extra.iloc[:-3, :2]\n",
    "df_ntrain_extra['Number of training genes'] = df_ntrain_extra.index.to_series().str.split('_', expand = True)[1]\n",
    "\n",
    "df_ntrain['Training set'] = 'Only contains the five CPT-1 training proteins'\n",
    "df_ntrain_extra['Training set'] = 'Only Contains additional training proteins'\n",
    "df_ntrain_extra = pd.concat([df_ntrain_extra, df_ntrain])\n",
    "df_ntrain_extra['Number of training genes'] = pd.Categorical(df_ntrain_extra['Number of training genes'], \n",
    "                                                             ['ESM-1v', 'EVE'] + [str(i+1) for i in range(13)])\n",
    "                                                             \n",
    "df_ntrain_extra = df_ntrain_extra.sort_values('Number of training genes')\n",
    "df_ntrain_mean_extra = df_ntrain_extra.groupby('Number of training genes').mean().reset_index()\n",
    "order = df_ntrain_mean_extra['Number of training genes']\n",
    "\n",
    "fig, axes = plt.subplots(1, 2, figsize=(24, 8))\n",
    "sns.scatterplot(ax = axes[0], x = \"Number of training genes\", y = \"Global_AUROC\", data = df_ntrain_mean, marker = '_', s = 500, \n",
    "                color = 'blue')\n",
    "sns.scatterplot(ax = axes[0], x = \"Number of training genes\", y = \"Global_AUROC\", data = df_ntrain_mean_extra, marker = '_', s = 500, \n",
    "                color = 'orange')\n",
    "sns.stripplot(ax = axes[0], x = \"Number of training genes\", y = \"Global_AUROC\", data = df_ntrain_extra, order = order, zorder = 0, \n",
    "              hue = 'Training set')\n",
    "sns.scatterplot(ax = axes[1], x = \"Number of training genes\", y = \"Avg_per_gene_AUROC\", data = df_ntrain_mean, marker = '_', s = 500, \n",
    "                color = 'blue')\n",
    "sns.scatterplot(ax = axes[1], x = \"Number of training genes\", y = \"Avg_per_gene_AUROC\", data = df_ntrain_mean_extra, marker = '_', s = 500, \n",
    "                color = 'orange')\n",
    "sns.stripplot(ax = axes[1], x = \"Number of training genes\", y = \"Avg_per_gene_AUROC\", data = df_ntrain_extra, order = order, zorder = 0,\n",
    "              hue = 'Training set')\n",
    "plt.show()"
   ]
  },
  {
   "cell_type": "markdown",
   "id": "812e8926-a540-4f5c-85b5-a36a89160613",
   "metadata": {},
   "source": [
    "### Test within-gene imputation"
   ]
  },
  {
   "cell_type": "code",
   "execution_count": 37,
   "id": "9bc3920b-81f3-4178-b364-c900c8f3109c",
   "metadata": {},
   "outputs": [
    {
     "name": "stdout",
     "output_type": "stream",
     "text": [
      "Fraction of variants without EVE scores: 0.1466363071827779\n"
     ]
    }
   ],
   "source": [
    "# Select mutations where EVE scores are not available\n",
    "print(f\"Fraction of variants without EVE scores: {x['eve_na'].mean()}\")\n",
    "y_eve_na = y[x['eve_na'] == True]\n",
    "x_eve_na = x[x['eve_na'] == True]"
   ]
  },
  {
   "cell_type": "code",
   "execution_count": 38,
   "id": "455e15e6-00d0-4fe8-b441-6a4a098a7055",
   "metadata": {},
   "outputs": [
    {
     "name": "stdout",
     "output_type": "stream",
     "text": [
      "Selecting features in the category 100verte_msa\n"
     ]
    },
    {
     "name": "stderr",
     "output_type": "stream",
     "text": [
      "100%|██████████| 7/7 [00:03<00:00,  1.88it/s]\n"
     ]
    },
    {
     "name": "stdout",
     "output_type": "stream",
     "text": [
      "Best features: ('100verte_mut_freq',) Avg metric on DMS: 0.78211\n",
      "Selecting features in the category 30mammal_msa\n"
     ]
    },
    {
     "name": "stderr",
     "output_type": "stream",
     "text": [
      "100%|██████████| 7/7 [00:04<00:00,  1.68it/s]\n"
     ]
    },
    {
     "name": "stdout",
     "output_type": "stream",
     "text": [
      "Best features: ('30mammal_mut_freq',) Avg metric on DMS: 0.7812\n",
      "Selecting features in the category mpnn\n"
     ]
    },
    {
     "name": "stderr",
     "output_type": "stream",
     "text": [
      "100%|██████████| 7/7 [00:04<00:00,  1.47it/s]\n"
     ]
    },
    {
     "name": "stdout",
     "output_type": "stream",
     "text": [
      "Best features: ('vanilla_protmpnn_norm',) Avg metric on DMS: 0.78523\n",
      "Selecting features in the category struct\n"
     ]
    },
    {
     "name": "stderr",
     "output_type": "stream",
     "text": [
      "100%|██████████| 3/3 [00:02<00:00,  1.33it/s]\n"
     ]
    },
    {
     "name": "stdout",
     "output_type": "stream",
     "text": [
      "Best features: ('conditioned_mt_score',) Avg metric on DMS: 0.78552\n",
      "0 ['BLOSUM1'] 0.78851\n",
      "1 ['BLOSUM1', 'ST6'] 0.79029\n",
      "All selected features: ['esm_1v', '100verte_mut_freq', '30mammal_mut_freq', 'vanilla_protmpnn_norm', 'conditioned_mt_score', 'BLOSUM1', 'ST6']\n"
     ]
    }
   ],
   "source": [
    "# Reselect features without EVE\n",
    "feat_selected_dms_no_eve = select_feat_by_category(feat_mat, label, all_genes, base_feat = ['esm_1v'], with_struct = True)"
   ]
  },
  {
   "cell_type": "code",
   "execution_count": 39,
   "id": "1a90ba7e-fb21-44b9-bfa2-7f60cafe278a",
   "metadata": {},
   "outputs": [
    {
     "name": "stdout",
     "output_type": "stream",
     "text": [
      "Features selected on DMS ['esm_1v', 'evolutionary_index_ASM', '100verte_mut_freq', '30mammal_mut_freq', 'vanilla_protmpnn_norm', 'conditioned_wt_score', 'BLOSUM1', 'ST6', 'VHSE6']\n",
      "Features w/o eve ['esm_1v', '100verte_mut_freq', '30mammal_mut_freq', 'vanilla_protmpnn_norm', 'conditioned_mt_score', 'BLOSUM1', 'ST6']\n",
      "Features w/o eve w/o mpnn ['BLOSUM1', 'ST6', '100verte_mut_freq', 'esm_1v', '30mammal_mut_freq']\n",
      "Features w/o msa ['BLOSUM1', 'ST6', 'conditioned_wt_score', 'vanilla_protmpnn_norm', 'esm_1v', 'evolutionary_index_ASM', 'VHSE6']\n",
      "Features w/o struct ['BLOSUM1', 'ST6', '100verte_mut_freq', 'esm_1v', '30mammal_mut_freq', 'evolutionary_index_ASM', 'VHSE6']\n"
     ]
    }
   ],
   "source": [
    "# Construct prediction matrix\n",
    "pred_eve_na = pd.DataFrame(index = y_eve_na.index)\n",
    "\n",
    "cpt = CPTClassifier()\n",
    "# Transfer model predictions\n",
    "features = feat_selected_dms\n",
    "print('Features selected on DMS', features)\n",
    "cpt.train(feat_mat, label, all_genes, features)\n",
    "pred_clinvar = cpt.predict(x_eve_na[features])\n",
    "pred_eve_na['Transfer'] = 1 - pred_clinvar.values\n",
    "\n",
    "# Transfer model without EVE\n",
    "features = feat_selected_dms_no_eve\n",
    "print('Features w/o eve', features)\n",
    "cpt.train(feat_mat, label, all_genes, features)\n",
    "pred_clinvar = cpt.predict(x_eve_na[features])\n",
    "pred_eve_na['Transfer_no_eve'] = 1 - pred_clinvar.values\n",
    "\n",
    "# Transfer model without EVE without structural features\n",
    "features = list(set(feat_selected_dms_no_eve) - set(struct_feats + mpnn_feats))\n",
    "print('Features w/o eve w/o mpnn', features)\n",
    "cpt.train(feat_mat, label, all_genes, features)\n",
    "pred_clinvar = cpt.predict(x_eve_na[features])\n",
    "pred_eve_na['Transfer_no_eve_struct'] = 1 - pred_clinvar.values\n",
    "\n",
    "# Transfer model predictions without MSA features\n",
    "features = list(set(feat_selected_dms) - set(msa_feats))\n",
    "print('Features w/o msa', features)\n",
    "cpt.train(feat_mat, label, all_genes, features)\n",
    "pred_clinvar = cpt.predict(x_eve_na[features])\n",
    "pred_eve_na['Transfer_no_msa'] = 1 - pred_clinvar.values\n",
    "\n",
    "# Transfer model predictions without structural features\n",
    "features = list(set(feat_selected_dms) - set(struct_feats + mpnn_feats))\n",
    "print('Features w/o struct', features)\n",
    "cpt.train(feat_mat, label, all_genes, features)\n",
    "pred_clinvar = cpt.predict(x_eve_na[features])\n",
    "pred_eve_na['Transfer_no_struct'] = 1 - pred_clinvar.values\n",
    "\n",
    "# Individual features\n",
    "for feat in list(set(pos_feats) - set(aa_feats)):\n",
    "    pred_eve_na[feat] = x_eve_na[feat]\n",
    "for feat in list(set(neg_feats) - set(aa_feats)):\n",
    "    pred_eve_na[feat] = -x_eve_na[feat]\n",
    "\n",
    "feat_list = pos_feats + neg_feats"
   ]
  },
  {
   "cell_type": "code",
   "execution_count": 40,
   "id": "777b2730-6adb-4d04-b2da-69b354008453",
   "metadata": {},
   "outputs": [
    {
     "name": "stdout",
     "output_type": "stream",
     "text": [
      "17 genes used to calculate per gene AUROC out of 828 genes\n",
      "Calculating...\n"
     ]
    },
    {
     "name": "stderr",
     "output_type": "stream",
     "text": [
      "100%|██████████| 17/17 [00:00<00:00, 34.17it/s]\n"
     ]
    },
    {
     "data": {
      "text/html": [
       "<div>\n",
       "<style scoped>\n",
       "    .dataframe tbody tr th:only-of-type {\n",
       "        vertical-align: middle;\n",
       "    }\n",
       "\n",
       "    .dataframe tbody tr th {\n",
       "        vertical-align: top;\n",
       "    }\n",
       "\n",
       "    .dataframe thead th {\n",
       "        text-align: right;\n",
       "    }\n",
       "</style>\n",
       "<table border=\"1\" class=\"dataframe\">\n",
       "  <thead>\n",
       "    <tr style=\"text-align: right;\">\n",
       "      <th></th>\n",
       "      <th>Transfer</th>\n",
       "      <th>Transfer_no_struct</th>\n",
       "      <th>Transfer_no_msa</th>\n",
       "      <th>Transfer_no_eve</th>\n",
       "      <th>Transfer_no_eve_struct</th>\n",
       "      <th>esm_1v</th>\n",
       "      <th>EVE_scores_ASM</th>\n",
       "      <th>evolutionary_index_ASM</th>\n",
       "      <th>100verte_wt_freq</th>\n",
       "      <th>100verte_mut_freq</th>\n",
       "      <th>...</th>\n",
       "      <th>conditioned_wt_score</th>\n",
       "      <th>ca_only_protmpnn_norm</th>\n",
       "      <th>ca_protmpnn_norm</th>\n",
       "      <th>vanilla_protmpnn_norm</th>\n",
       "      <th>30mammal_mut_freq</th>\n",
       "      <th>30mammal_gap_freq</th>\n",
       "      <th>100verte_gap_freq</th>\n",
       "      <th>n</th>\n",
       "      <th>n_pos</th>\n",
       "      <th>n_neg</th>\n",
       "    </tr>\n",
       "  </thead>\n",
       "  <tbody>\n",
       "    <tr>\n",
       "      <th>Global_AUROC</th>\n",
       "      <td>0.9215</td>\n",
       "      <td>0.9169</td>\n",
       "      <td>0.9111</td>\n",
       "      <td>0.9096</td>\n",
       "      <td>0.8919</td>\n",
       "      <td>0.8650</td>\n",
       "      <td>0.8517</td>\n",
       "      <td>0.8497</td>\n",
       "      <td>0.8242</td>\n",
       "      <td>0.7314</td>\n",
       "      <td>...</td>\n",
       "      <td>0.6663</td>\n",
       "      <td>0.6525</td>\n",
       "      <td>0.6307</td>\n",
       "      <td>0.6260</td>\n",
       "      <td>0.6239</td>\n",
       "      <td>0.5073</td>\n",
       "      <td>0.4757</td>\n",
       "      <td>NaN</td>\n",
       "      <td>NaN</td>\n",
       "      <td>NaN</td>\n",
       "    </tr>\n",
       "    <tr>\n",
       "      <th>Avg_per_gene_AUROC</th>\n",
       "      <td>0.9216</td>\n",
       "      <td>0.9160</td>\n",
       "      <td>0.9139</td>\n",
       "      <td>0.9033</td>\n",
       "      <td>0.8889</td>\n",
       "      <td>0.8487</td>\n",
       "      <td>0.9016</td>\n",
       "      <td>0.8995</td>\n",
       "      <td>0.8001</td>\n",
       "      <td>0.7252</td>\n",
       "      <td>...</td>\n",
       "      <td>0.7446</td>\n",
       "      <td>0.6632</td>\n",
       "      <td>0.6177</td>\n",
       "      <td>0.6293</td>\n",
       "      <td>0.6056</td>\n",
       "      <td>0.5685</td>\n",
       "      <td>0.4544</td>\n",
       "      <td>26.0</td>\n",
       "      <td>15.4118</td>\n",
       "      <td>10.5882</td>\n",
       "    </tr>\n",
       "  </tbody>\n",
       "</table>\n",
       "<p>2 rows × 22 columns</p>\n",
       "</div>"
      ],
      "text/plain": [
       "                    Transfer  Transfer_no_struct  Transfer_no_msa  \\\n",
       "Global_AUROC          0.9215              0.9169           0.9111   \n",
       "Avg_per_gene_AUROC    0.9216              0.9160           0.9139   \n",
       "\n",
       "                    Transfer_no_eve  Transfer_no_eve_struct  esm_1v  \\\n",
       "Global_AUROC                 0.9096                  0.8919  0.8650   \n",
       "Avg_per_gene_AUROC           0.9033                  0.8889  0.8487   \n",
       "\n",
       "                    EVE_scores_ASM  evolutionary_index_ASM  100verte_wt_freq  \\\n",
       "Global_AUROC                0.8517                  0.8497            0.8242   \n",
       "Avg_per_gene_AUROC          0.9016                  0.8995            0.8001   \n",
       "\n",
       "                    100verte_mut_freq  ...  conditioned_wt_score  \\\n",
       "Global_AUROC                   0.7314  ...                0.6663   \n",
       "Avg_per_gene_AUROC             0.7252  ...                0.7446   \n",
       "\n",
       "                    ca_only_protmpnn_norm  ca_protmpnn_norm  \\\n",
       "Global_AUROC                       0.6525            0.6307   \n",
       "Avg_per_gene_AUROC                 0.6632            0.6177   \n",
       "\n",
       "                    vanilla_protmpnn_norm  30mammal_mut_freq  \\\n",
       "Global_AUROC                       0.6260             0.6239   \n",
       "Avg_per_gene_AUROC                 0.6293             0.6056   \n",
       "\n",
       "                    30mammal_gap_freq  100verte_gap_freq     n    n_pos  \\\n",
       "Global_AUROC                   0.5073             0.4757   NaN      NaN   \n",
       "Avg_per_gene_AUROC             0.5685             0.4544  26.0  15.4118   \n",
       "\n",
       "                      n_neg  \n",
       "Global_AUROC            NaN  \n",
       "Avg_per_gene_AUROC  10.5882  \n",
       "\n",
       "[2 rows x 22 columns]"
      ]
     },
     "execution_count": 40,
     "metadata": {},
     "output_type": "execute_result"
    }
   ],
   "source": [
    "# Get AUROC matrix\n",
    "# Get per gene AUROC\n",
    "roc_by_gene_eve_na = get_per_gene_auroc(y_eve_na, pred_eve_na)\n",
    "\n",
    "# Add global AUROC\n",
    "roc_by_gene_eve_na.insert(loc = 0, column = 'Global_AUROC', \n",
    "                   value = [np.nan, np.nan, np.nan] + \\\n",
    "                           [float(roc_auc_score(y_eve_na, pred_eve_na[feat])) for feat in pred_eve_na.columns])\n",
    "roc_by_gene_eve_na = roc_by_gene_eve_na.sort_values('Global_AUROC', ascending = False).round(4)\n",
    "\n",
    "# Transpose the dataframe\n",
    "roc_by_gene_eve_na = roc_by_gene_eve_na.transpose()\n",
    "roc_by_gene_eve_na.iloc[:2, :]"
   ]
  },
  {
   "cell_type": "code",
   "execution_count": 41,
   "id": "c4022ca6-30d2-4411-ae3d-6b434c4e6cd8",
   "metadata": {},
   "outputs": [
    {
     "data": {
      "image/png": "[encoded data removed]",
      "text/plain": [
       "<Figure size 700x400 with 1 Axes>"
      ]
     },
     "metadata": {},
     "output_type": "display_data"
    }
   ],
   "source": [
    "# Figure: within-gene imputation of EVE scores improves performance\n",
    "auroc_g_na = roc_by_gene_eve_na.loc['Global_AUROC', \n",
    "                                    ['Transfer', 'Transfer_no_eve', 'esm_1v', 'EVE_scores_ASM']].to_list()\n",
    "auroc_p_na = roc_by_gene_eve_na.loc['Avg_per_gene_AUROC', \n",
    "                                    ['Transfer', 'Transfer_no_eve', 'esm_1v', 'EVE_scores_ASM']].to_list()\n",
    "bars_na = ['Transfer with imputed EVE', 'Transfer w/o EVE', 'ESM-1v', 'EVE imputed']\n",
    "x_pos_na = np.arange(len(bars_na))\n",
    "width = 0.4\n",
    "\n",
    "fig, ax = plt.subplots(figsize=(7, 4))\n",
    "rects_g_na = ax.bar(x_pos_na - width/2, auroc_g_na, width, label = 'Global AUROC')\n",
    "rects_p_na = ax.bar(x_pos_na + width/2, auroc_p_na, width, label = 'Avg per gene AUROC')\n",
    "\n",
    "ax.bar_label(rects_g_na, labels=[f'{x:,.3f}' for x in rects_g_na.datavalues], padding = 5)\n",
    "ax.bar_label(rects_p_na, labels=[f'{x:,.3f}' for x in rects_p_na.datavalues], padding = 5)\n",
    "\n",
    "ax.set_xticks(x_pos_na)\n",
    "ax.set_xticklabels(bars_na, rotation = 30, ha=\"right\")\n",
    "\n",
    "ax.set_ylim(0.755, 0.925)\n",
    "\n",
    "plt.legend(bbox_to_anchor=(1, 0.65))\n",
    "plt.xlabel('')\n",
    "plt.show()"
   ]
  },
  {
   "cell_type": "markdown",
   "id": "af9781a7-2e28-4359-9db4-c1947c786aef",
   "metadata": {},
   "source": [
    "### Test cross-gene imputation"
   ]
  },
  {
   "cell_type": "code",
   "execution_count": 42,
   "id": "eb278de7-f827-47c5-bdf6-158b93d651ea",
   "metadata": {},
   "outputs": [
    {
     "name": "stdout",
     "output_type": "stream",
     "text": [
      "Selecting features in the category 100verte_msa\n"
     ]
    },
    {
     "name": "stderr",
     "output_type": "stream",
     "text": [
      "100%|██████████| 7/7 [00:04<00:00,  1.71it/s]\n"
     ]
    },
    {
     "name": "stdout",
     "output_type": "stream",
     "text": [
      "Best features: ('100verte_mut_freq',) Avg metric on DMS: 0.78211\n",
      "Selecting features in the category 30mammal_msa\n"
     ]
    },
    {
     "name": "stderr",
     "output_type": "stream",
     "text": [
      "100%|██████████| 7/7 [00:04<00:00,  1.41it/s]\n"
     ]
    },
    {
     "name": "stdout",
     "output_type": "stream",
     "text": [
      "Best features: ('30mammal_mut_freq',) Avg metric on DMS: 0.7812\n",
      "Selecting features in the category mpnn\n"
     ]
    },
    {
     "name": "stderr",
     "output_type": "stream",
     "text": [
      "100%|██████████| 7/7 [00:05<00:00,  1.17it/s]\n"
     ]
    },
    {
     "name": "stdout",
     "output_type": "stream",
     "text": [
      "Best features: ('vanilla_protmpnn_norm',) Avg metric on DMS: 0.78523\n",
      "0 ['BLOSUM1'] 0.78816\n",
      "1 ['BLOSUM1', 'ST6'] 0.79002\n",
      "2 ['BLOSUM1', 'ST6', 'VHSE1'] 0.79086\n",
      "All selected features: ['esm_1v', '100verte_mut_freq', '30mammal_mut_freq', 'vanilla_protmpnn_norm', 'BLOSUM1', 'ST6', 'VHSE1']\n"
     ]
    }
   ],
   "source": [
    "# Reselect features without all EVE-related features (EVE and conditioned scores)\n",
    "feat_selected_dms_no_eve_related = select_feat_by_category(feat_mat, label, all_genes, \n",
    "                                                           base_feat = ['esm_1v'], with_struct = False)"
   ]
  },
  {
   "cell_type": "code",
   "execution_count": 43,
   "id": "69a28d91-90af-4fc3-9235-7942d53e2443",
   "metadata": {},
   "outputs": [
    {
     "name": "stdout",
     "output_type": "stream",
     "text": [
      "Selecting features in the category 100verte_msa\n"
     ]
    },
    {
     "name": "stderr",
     "output_type": "stream",
     "text": [
      "100%|██████████| 7/7 [00:03<00:00,  1.82it/s]\n"
     ]
    },
    {
     "name": "stdout",
     "output_type": "stream",
     "text": [
      "Best features: ('100verte_mut_freq',) Avg metric on DMS: 0.7832\n",
      "Selecting features in the category 30mammal_msa\n"
     ]
    },
    {
     "name": "stderr",
     "output_type": "stream",
     "text": [
      "100%|██████████| 7/7 [00:04<00:00,  1.61it/s]\n"
     ]
    },
    {
     "name": "stdout",
     "output_type": "stream",
     "text": [
      "Best features: ('30mammal_mut_freq',) Avg metric on DMS: 0.78305\n",
      "Selecting features in the category mpnn\n"
     ]
    },
    {
     "name": "stderr",
     "output_type": "stream",
     "text": [
      "100%|██████████| 7/7 [00:04<00:00,  1.52it/s]\n"
     ]
    },
    {
     "name": "stdout",
     "output_type": "stream",
     "text": [
      "Best features: ('vanilla_protmpnn_norm',) Avg metric on DMS: 0.78537\n",
      "Selecting features in the category struct\n"
     ]
    },
    {
     "name": "stderr",
     "output_type": "stream",
     "text": [
      "100%|██████████| 3/3 [00:02<00:00,  1.39it/s]\n"
     ]
    },
    {
     "name": "stdout",
     "output_type": "stream",
     "text": [
      "Best features: ('conditioned_wt_score',) Avg metric on DMS: 0.78555\n",
      "0 ['BLOSUM1'] 0.78792\n",
      "1 ['BLOSUM1', 'ST6'] 0.78955\n",
      "All selected features: ['esm_1v', 'evolutionary_index_ASM', '100verte_mut_freq', '30mammal_mut_freq', 'vanilla_protmpnn_norm', 'conditioned_wt_score', 'BLOSUM1', 'ST6']\n"
     ]
    }
   ],
   "source": [
    "# Reselect features without all EVE-related features (EVE and conditioned scores)\n",
    "feat_selected_dms_eve_xgi = select_feat_by_category(feat_mat_xgi, label_xgi, all_genes)"
   ]
  },
  {
   "cell_type": "code",
   "execution_count": 44,
   "id": "3852d2fc-dd8c-4172-9105-6f3a8a88a6e6",
   "metadata": {},
   "outputs": [],
   "source": [
    "# Load weighted KNN imputers fitted on the 5 DMS genes\n",
    "imputer = pd.read_pickle('./data/imputer_5dms.pkl')"
   ]
  },
  {
   "cell_type": "code",
   "execution_count": 45,
   "id": "dfff92f1-d55c-4f5e-aa51-07d7827836f2",
   "metadata": {},
   "outputs": [
    {
     "name": "stdout",
     "output_type": "stream",
     "text": [
      "Imputing with weights fitted on DMS genes...\n"
     ]
    },
    {
     "name": "stderr",
     "output_type": "stream",
     "text": [
      "100%|██████████| 5/5 [00:43<00:00,  8.64s/it]\n"
     ]
    }
   ],
   "source": [
    "# Calculate imputed values for mutations without EVE scores\n",
    "x_impute = []\n",
    "print('Imputing with weights fitted on DMS genes...')\n",
    "for gene in tqdm(all_genes):\n",
    "    x_eve_na[eve_feats] = np.nan\n",
    "    x_eve_na[struct_feats] = np.nan\n",
    "    for feat in eve_feats + struct_feats:\n",
    "        x_eve_na = imputer.loc[feat, gene].transform(x_eve_na)\n",
    "    x_impute.append(x_eve_na.copy())\n",
    "x_eve_na = sum(x_impute) / len(all_genes)"
   ]
  },
  {
   "cell_type": "code",
   "execution_count": 46,
   "id": "e960c7b1-4722-4436-9a0d-abc60d06c3d3",
   "metadata": {},
   "outputs": [
    {
     "name": "stdout",
     "output_type": "stream",
     "text": [
      "Features selected on DMS ['esm_1v', 'evolutionary_index_ASM', '100verte_mut_freq', '30mammal_mut_freq', 'vanilla_protmpnn_norm', 'conditioned_wt_score', 'BLOSUM1', 'ST6', 'VHSE6']\n",
      "Features w/o eve ['esm_1v', '100verte_mut_freq', '30mammal_mut_freq', 'vanilla_protmpnn_norm', 'BLOSUM1', 'ST6', 'VHSE1']\n",
      "17 genes used to calculate per gene AUROC out of 828 genes\n",
      "Calculating...\n"
     ]
    },
    {
     "name": "stderr",
     "output_type": "stream",
     "text": [
      "100%|██████████| 17/17 [00:00<00:00, 59.02it/s]\n"
     ]
    },
    {
     "data": {
      "text/html": [
       "<div>\n",
       "<style scoped>\n",
       "    .dataframe tbody tr th:only-of-type {\n",
       "        vertical-align: middle;\n",
       "    }\n",
       "\n",
       "    .dataframe tbody tr th {\n",
       "        vertical-align: top;\n",
       "    }\n",
       "\n",
       "    .dataframe thead th {\n",
       "        text-align: right;\n",
       "    }\n",
       "</style>\n",
       "<table border=\"1\" class=\"dataframe\">\n",
       "  <thead>\n",
       "    <tr style=\"text-align: right;\">\n",
       "      <th></th>\n",
       "      <th>Transfer</th>\n",
       "      <th>Transfer_xgi_model</th>\n",
       "      <th>Transfer_no_eve_related</th>\n",
       "      <th>EVE_scores_ASM</th>\n",
       "      <th>evolutionary_index_ASM</th>\n",
       "      <th>conditioned_mt_score</th>\n",
       "      <th>conditioned_wt_score</th>\n",
       "      <th>esm_1v</th>\n",
       "      <th>100verte_wt_freq</th>\n",
       "      <th>100verte_mut_freq</th>\n",
       "      <th>30mammal_wt_freq</th>\n",
       "      <th>ca_only_protmpnn_norm</th>\n",
       "      <th>ca_protmpnn_norm</th>\n",
       "      <th>vanilla_protmpnn_norm</th>\n",
       "      <th>30mammal_mut_freq</th>\n",
       "      <th>30mammal_gap_freq</th>\n",
       "      <th>100verte_gap_freq</th>\n",
       "      <th>n</th>\n",
       "      <th>n_pos</th>\n",
       "      <th>n_neg</th>\n",
       "    </tr>\n",
       "  </thead>\n",
       "  <tbody>\n",
       "    <tr>\n",
       "      <th>Global_AUROC</th>\n",
       "      <td>0.9109</td>\n",
       "      <td>0.9093</td>\n",
       "      <td>0.9046</td>\n",
       "      <td>0.9008</td>\n",
       "      <td>0.9002</td>\n",
       "      <td>0.8907</td>\n",
       "      <td>0.8855</td>\n",
       "      <td>0.8650</td>\n",
       "      <td>0.8242</td>\n",
       "      <td>0.7314</td>\n",
       "      <td>0.7168</td>\n",
       "      <td>0.6525</td>\n",
       "      <td>0.6307</td>\n",
       "      <td>0.6260</td>\n",
       "      <td>0.6239</td>\n",
       "      <td>0.5073</td>\n",
       "      <td>0.4757</td>\n",
       "      <td>NaN</td>\n",
       "      <td>NaN</td>\n",
       "      <td>NaN</td>\n",
       "    </tr>\n",
       "    <tr>\n",
       "      <th>Avg_per_gene_AUROC</th>\n",
       "      <td>0.8958</td>\n",
       "      <td>0.8932</td>\n",
       "      <td>0.8842</td>\n",
       "      <td>0.8932</td>\n",
       "      <td>0.8935</td>\n",
       "      <td>0.8745</td>\n",
       "      <td>0.8442</td>\n",
       "      <td>0.8487</td>\n",
       "      <td>0.8001</td>\n",
       "      <td>0.7252</td>\n",
       "      <td>0.6755</td>\n",
       "      <td>0.6632</td>\n",
       "      <td>0.6177</td>\n",
       "      <td>0.6293</td>\n",
       "      <td>0.6056</td>\n",
       "      <td>0.5685</td>\n",
       "      <td>0.4544</td>\n",
       "      <td>26.0</td>\n",
       "      <td>15.4118</td>\n",
       "      <td>10.5882</td>\n",
       "    </tr>\n",
       "  </tbody>\n",
       "</table>\n",
       "</div>"
      ],
      "text/plain": [
       "                    Transfer  Transfer_xgi_model  Transfer_no_eve_related  \\\n",
       "Global_AUROC          0.9109              0.9093                   0.9046   \n",
       "Avg_per_gene_AUROC    0.8958              0.8932                   0.8842   \n",
       "\n",
       "                    EVE_scores_ASM  evolutionary_index_ASM  \\\n",
       "Global_AUROC                0.9008                  0.9002   \n",
       "Avg_per_gene_AUROC          0.8932                  0.8935   \n",
       "\n",
       "                    conditioned_mt_score  conditioned_wt_score  esm_1v  \\\n",
       "Global_AUROC                      0.8907                0.8855  0.8650   \n",
       "Avg_per_gene_AUROC                0.8745                0.8442  0.8487   \n",
       "\n",
       "                    100verte_wt_freq  100verte_mut_freq  30mammal_wt_freq  \\\n",
       "Global_AUROC                  0.8242             0.7314            0.7168   \n",
       "Avg_per_gene_AUROC            0.8001             0.7252            0.6755   \n",
       "\n",
       "                    ca_only_protmpnn_norm  ca_protmpnn_norm  \\\n",
       "Global_AUROC                       0.6525            0.6307   \n",
       "Avg_per_gene_AUROC                 0.6632            0.6177   \n",
       "\n",
       "                    vanilla_protmpnn_norm  30mammal_mut_freq  \\\n",
       "Global_AUROC                       0.6260             0.6239   \n",
       "Avg_per_gene_AUROC                 0.6293             0.6056   \n",
       "\n",
       "                    30mammal_gap_freq  100verte_gap_freq     n    n_pos  \\\n",
       "Global_AUROC                   0.5073             0.4757   NaN      NaN   \n",
       "Avg_per_gene_AUROC             0.5685             0.4544  26.0  15.4118   \n",
       "\n",
       "                      n_neg  \n",
       "Global_AUROC            NaN  \n",
       "Avg_per_gene_AUROC  10.5882  "
      ]
     },
     "execution_count": 46,
     "metadata": {},
     "output_type": "execute_result"
    }
   ],
   "source": [
    "# Construct prediction matrix\n",
    "pred_eve_na = pd.DataFrame(index = y_eve_na.index)\n",
    "\n",
    "cpt = CPTClassifier()\n",
    "# Transfer model predictions\n",
    "features = feat_selected_dms\n",
    "print('Features selected on DMS', features)\n",
    "cpt.train(feat_mat, label, all_genes, features)\n",
    "pred_clinvar = cpt.predict(x_eve_na[features])\n",
    "pred_eve_na['Transfer'] = 1 - pred_clinvar.values\n",
    "\n",
    "# Transfer model predictions\n",
    "cpt.train(feat_mat_xgi, label_xgi, all_genes, feat_selected_dms)\n",
    "pred_clinvar = cpt.predict(x_eve_na[feat_selected_dms])\n",
    "pred_eve_na['Transfer_xgi_model'] = 1 - pred_clinvar.values\n",
    "\n",
    "# Transfer model without EVE-related features\n",
    "features = feat_selected_dms_no_eve_related\n",
    "print('Features w/o eve', features)\n",
    "cpt.train(feat_mat, label, all_genes, features)\n",
    "pred_clinvar = cpt.predict(x_eve_na[features])\n",
    "pred_eve_na['Transfer_no_eve_related'] = 1 - pred_clinvar.values\n",
    "\n",
    "# Individual features\n",
    "for feat in list(set(pos_feats) - set(aa_feats)):\n",
    "    pred_eve_na[feat] = x_eve_na[feat]\n",
    "for feat in list(set(neg_feats) - set(aa_feats)):\n",
    "    pred_eve_na[feat] = -x_eve_na[feat]\n",
    "\n",
    "feat_list = pos_feats + neg_feats\n",
    "\n",
    "# Get per gene AUROC\n",
    "roc_by_gene_eve_na = get_per_gene_auroc(y_eve_na, pred_eve_na)\n",
    "\n",
    "# Add global AUROC\n",
    "roc_by_gene_eve_na.insert(loc = 0, column = 'Global_AUROC', \n",
    "                          value = [np.nan, np.nan, np.nan] + \\\n",
    "                                   [float(roc_auc_score(y_eve_na, pred_eve_na[feat])) for feat in pred_eve_na.columns])\n",
    "roc_by_gene_eve_na = roc_by_gene_eve_na.sort_values('Global_AUROC', ascending = False).round(4)\n",
    "\n",
    "# Transpose the dataframe\n",
    "roc_by_gene_eve_na = roc_by_gene_eve_na.transpose()\n",
    "roc_by_gene_eve_na.iloc[:2, :]"
   ]
  },
  {
   "cell_type": "code",
   "execution_count": 47,
   "id": "8d9cc4fe-b1b0-4d79-bcae-12462cea11f8",
   "metadata": {},
   "outputs": [
    {
     "name": "stdout",
     "output_type": "stream",
     "text": [
      "Fraction of variants without EVE scores: 0.8533636928172221\n"
     ]
    }
   ],
   "source": [
    "# Mutations with EVE scores\n",
    "y_eve_av = y[x['eve_na'] == False]\n",
    "x_eve_av = x[x['eve_na'] == False]\n",
    "print(f\"Fraction of variants without EVE scores: {(~x['eve_na']).mean()}\")"
   ]
  },
  {
   "cell_type": "code",
   "execution_count": 48,
   "id": "b4ae9b1f-a9a8-4299-8974-cf52ed808ea9",
   "metadata": {},
   "outputs": [
    {
     "name": "stdout",
     "output_type": "stream",
     "text": [
      "Features selected on DMS ['esm_1v', 'evolutionary_index_ASM', '100verte_mut_freq', '30mammal_mut_freq', 'vanilla_protmpnn_norm', 'conditioned_wt_score', 'BLOSUM1', 'ST6', 'VHSE6']\n"
     ]
    }
   ],
   "source": [
    "# Construct prediction matrix\n",
    "pred_eve_av = pd.DataFrame(index = y_eve_av.index)\n",
    "\n",
    "cpt = CPTClassifier()\n",
    "# Transfer model predictions\n",
    "features = feat_selected_dms\n",
    "print('Features selected on DMS', features)\n",
    "cpt.train(feat_mat, label, all_genes, features)\n",
    "pred_clinvar = cpt.predict(x_eve_av[features])\n",
    "pred_eve_av['Transfer'] = 1 - pred_clinvar.values\n",
    "\n",
    "pred_eve_av['EVE'] = x_eve_av['EVE_scores_ASM']"
   ]
  },
  {
   "cell_type": "code",
   "execution_count": 49,
   "id": "3128c3c6-76b0-45bc-8033-39f90222a0f0",
   "metadata": {},
   "outputs": [
    {
     "name": "stdout",
     "output_type": "stream",
     "text": [
      "Imputing with weights fitted on DMS genes...\n"
     ]
    },
    {
     "name": "stderr",
     "output_type": "stream",
     "text": [
      "100%|██████████| 5/5 [04:29<00:00, 53.85s/it]\n"
     ]
    }
   ],
   "source": [
    "# Calculate imputed values for mutations with EVE scores\n",
    "# ! This step is relatively slow and takes ~10min on a laptop\n",
    "x_impute = []\n",
    "print('Imputing with weights fitted on DMS genes...')\n",
    "for gene in tqdm(all_genes):\n",
    "    x_eve_av[eve_feats] = np.nan\n",
    "    x_eve_av[struct_feats] = np.nan\n",
    "    for feat in eve_feats + struct_feats:\n",
    "        x_eve_av = imputer.loc[feat, gene].transform(x_eve_av)\n",
    "    x_impute.append(x_eve_av.copy())\n",
    "x_eve_av = sum(x_impute) / len(all_genes)"
   ]
  },
  {
   "cell_type": "code",
   "execution_count": 50,
   "id": "b4c0e8f0-80f2-470f-8376-ad00547ae026",
   "metadata": {},
   "outputs": [],
   "source": [
    "# Transfer model with imputed eve related features\n",
    "features = feat_selected_dms\n",
    "cpt.train(feat_mat, label, all_genes, features)\n",
    "pred_clinvar = cpt.predict(x_eve_av[features])\n",
    "pred_eve_av['Transfer_eve_imputed'] = 1 - pred_clinvar.values\n",
    "\n",
    "cpt.train(feat_mat_xgi, label_xgi, all_genes, feat_selected_dms)\n",
    "pred_clinvar = cpt.predict(x_eve_av[feat_selected_dms])\n",
    "pred_eve_av['Transfer_eve_imputed_xgi_model'] = 1 - pred_clinvar.values\n",
    "\n",
    "# Transfer model without eve related features\n",
    "features = feat_selected_dms_no_eve_related\n",
    "cpt.train(feat_mat, label, all_genes, features)\n",
    "pred_clinvar = cpt.predict(x_eve_av[features])\n",
    "pred_eve_av['Transfer_no_eve_related'] = 1 - pred_clinvar.values\n",
    "\n",
    "pred_eve_av['EVE_imputed'] = x_eve_av['EVE_scores_ASM']\n",
    "pred_eve_av['ESM-1v'] = -x_eve_av['esm_1v']"
   ]
  },
  {
   "cell_type": "code",
   "execution_count": 51,
   "id": "7671b112-ab1f-4b00-8380-2233caca6b4b",
   "metadata": {},
   "outputs": [
    {
     "name": "stdout",
     "output_type": "stream",
     "text": [
      "230 genes used to calculate per gene AUROC out of 1246 genes\n",
      "Calculating...\n"
     ]
    },
    {
     "name": "stderr",
     "output_type": "stream",
     "text": [
      "100%|██████████| 230/230 [00:01<00:00, 119.95it/s]\n"
     ]
    },
    {
     "data": {
      "text/html": [
       "<div>\n",
       "<style scoped>\n",
       "    .dataframe tbody tr th:only-of-type {\n",
       "        vertical-align: middle;\n",
       "    }\n",
       "\n",
       "    .dataframe tbody tr th {\n",
       "        vertical-align: top;\n",
       "    }\n",
       "\n",
       "    .dataframe thead th {\n",
       "        text-align: right;\n",
       "    }\n",
       "</style>\n",
       "<table border=\"1\" class=\"dataframe\">\n",
       "  <thead>\n",
       "    <tr style=\"text-align: right;\">\n",
       "      <th></th>\n",
       "      <th>Transfer</th>\n",
       "      <th>Transfer_eve_imputed_xgi_model</th>\n",
       "      <th>Transfer_eve_imputed</th>\n",
       "      <th>Transfer_no_eve_related</th>\n",
       "      <th>EVE_imputed</th>\n",
       "      <th>EVE</th>\n",
       "      <th>ESM-1v</th>\n",
       "      <th>n</th>\n",
       "      <th>n_pos</th>\n",
       "      <th>n_neg</th>\n",
       "    </tr>\n",
       "  </thead>\n",
       "  <tbody>\n",
       "    <tr>\n",
       "      <th>Global_AUROC</th>\n",
       "      <td>0.9331</td>\n",
       "      <td>0.9218</td>\n",
       "      <td>0.9184</td>\n",
       "      <td>0.9176</td>\n",
       "      <td>0.9094</td>\n",
       "      <td>0.8890</td>\n",
       "      <td>0.8723</td>\n",
       "      <td>NaN</td>\n",
       "      <td>NaN</td>\n",
       "      <td>NaN</td>\n",
       "    </tr>\n",
       "    <tr>\n",
       "      <th>Avg_per_gene_AUROC</th>\n",
       "      <td>0.9364</td>\n",
       "      <td>0.9188</td>\n",
       "      <td>0.9176</td>\n",
       "      <td>0.9158</td>\n",
       "      <td>0.9077</td>\n",
       "      <td>0.9223</td>\n",
       "      <td>0.8747</td>\n",
       "      <td>49.613</td>\n",
       "      <td>23.6261</td>\n",
       "      <td>25.987</td>\n",
       "    </tr>\n",
       "  </tbody>\n",
       "</table>\n",
       "</div>"
      ],
      "text/plain": [
       "                    Transfer  Transfer_eve_imputed_xgi_model  \\\n",
       "Global_AUROC          0.9331                          0.9218   \n",
       "Avg_per_gene_AUROC    0.9364                          0.9188   \n",
       "\n",
       "                    Transfer_eve_imputed  Transfer_no_eve_related  \\\n",
       "Global_AUROC                      0.9184                   0.9176   \n",
       "Avg_per_gene_AUROC                0.9176                   0.9158   \n",
       "\n",
       "                    EVE_imputed     EVE  ESM-1v       n    n_pos   n_neg  \n",
       "Global_AUROC             0.9094  0.8890  0.8723     NaN      NaN     NaN  \n",
       "Avg_per_gene_AUROC       0.9077  0.9223  0.8747  49.613  23.6261  25.987  "
      ]
     },
     "execution_count": 51,
     "metadata": {},
     "output_type": "execute_result"
    }
   ],
   "source": [
    "# Get AUROC matrix\n",
    "# Get per gene AUROC\n",
    "roc_by_gene_eve_av = get_per_gene_auroc(y_eve_av, pred_eve_av)\n",
    "\n",
    "# Add global AUROC\n",
    "roc_by_gene_eve_av.insert(loc = 0, column = 'Global_AUROC', \n",
    "                          value = [np.nan, np.nan, np.nan] + \\\n",
    "                                  [float(roc_auc_score(y_eve_av, pred_eve_av[feat])) for feat in pred_eve_av.columns])\n",
    "roc_by_gene_eve_av = roc_by_gene_eve_av.sort_values('Global_AUROC', ascending = False).round(4)\n",
    "\n",
    "# Transpose the dataframe\n",
    "roc_by_gene_eve_av = roc_by_gene_eve_av.transpose()\n",
    "\n",
    "roc_by_gene_eve_av.iloc[:2, :]"
   ]
  },
  {
   "cell_type": "code",
   "execution_count": 52,
   "id": "3dc91a43-6d62-4d12-9c72-44ca490d26f9",
   "metadata": {},
   "outputs": [
    {
     "name": "stdout",
     "output_type": "stream",
     "text": [
      "230 genes used to calculate per gene AUROC out of 1246 genes\n",
      "Calculating...\n"
     ]
    },
    {
     "name": "stderr",
     "output_type": "stream",
     "text": [
      "100%|██████████| 230/230 [00:01<00:00, 136.55it/s]\n"
     ]
    },
    {
     "data": {
      "text/html": [
       "<div>\n",
       "<style scoped>\n",
       "    .dataframe tbody tr th:only-of-type {\n",
       "        vertical-align: middle;\n",
       "    }\n",
       "\n",
       "    .dataframe tbody tr th {\n",
       "        vertical-align: top;\n",
       "    }\n",
       "\n",
       "    .dataframe thead th {\n",
       "        text-align: right;\n",
       "    }\n",
       "</style>\n",
       "<table border=\"1\" class=\"dataframe\">\n",
       "  <thead>\n",
       "    <tr style=\"text-align: right;\">\n",
       "      <th></th>\n",
       "      <th>Transfer</th>\n",
       "      <th>Transfer_eve_imputed_xgi_model</th>\n",
       "      <th>Transfer_eve_imputed</th>\n",
       "      <th>Transfer_no_eve_related</th>\n",
       "      <th>EVE_imputed</th>\n",
       "      <th>EVE</th>\n",
       "      <th>ESM-1v</th>\n",
       "      <th>n</th>\n",
       "      <th>n_pos</th>\n",
       "      <th>n_neg</th>\n",
       "    </tr>\n",
       "  </thead>\n",
       "  <tbody>\n",
       "    <tr>\n",
       "      <th>Global_AUROC</th>\n",
       "      <td>0.9331</td>\n",
       "      <td>0.9218</td>\n",
       "      <td>0.9184</td>\n",
       "      <td>0.9176</td>\n",
       "      <td>0.9094</td>\n",
       "      <td>0.8890</td>\n",
       "      <td>0.8723</td>\n",
       "      <td>NaN</td>\n",
       "      <td>NaN</td>\n",
       "      <td>NaN</td>\n",
       "    </tr>\n",
       "    <tr>\n",
       "      <th>Avg_per_gene_AUROC</th>\n",
       "      <td>0.9364</td>\n",
       "      <td>0.9188</td>\n",
       "      <td>0.9176</td>\n",
       "      <td>0.9158</td>\n",
       "      <td>0.9077</td>\n",
       "      <td>0.9223</td>\n",
       "      <td>0.8747</td>\n",
       "      <td>49.613</td>\n",
       "      <td>23.6261</td>\n",
       "      <td>25.987</td>\n",
       "    </tr>\n",
       "  </tbody>\n",
       "</table>\n",
       "</div>"
      ],
      "text/plain": [
       "                    Transfer  Transfer_eve_imputed_xgi_model  \\\n",
       "Global_AUROC          0.9331                          0.9218   \n",
       "Avg_per_gene_AUROC    0.9364                          0.9188   \n",
       "\n",
       "                    Transfer_eve_imputed  Transfer_no_eve_related  \\\n",
       "Global_AUROC                      0.9184                   0.9176   \n",
       "Avg_per_gene_AUROC                0.9176                   0.9158   \n",
       "\n",
       "                    EVE_imputed     EVE  ESM-1v       n    n_pos   n_neg  \n",
       "Global_AUROC             0.9094  0.8890  0.8723     NaN      NaN     NaN  \n",
       "Avg_per_gene_AUROC       0.9077  0.9223  0.8747  49.613  23.6261  25.987  "
      ]
     },
     "execution_count": 52,
     "metadata": {},
     "output_type": "execute_result"
    }
   ],
   "source": [
    "# Get AUROC matrix\n",
    "# Get per gene AUROC\n",
    "roc_by_gene_eve_av = get_per_gene_auroc(y_eve_av, pred_eve_av)\n",
    "\n",
    "# Add global AUROC\n",
    "roc_by_gene_eve_av.insert(loc = 0, column = 'Global_AUROC', \n",
    "                          value = [np.nan, np.nan, np.nan] + \\\n",
    "                                  [float(roc_auc_score(y_eve_av, pred_eve_av[feat])) for feat in pred_eve_av.columns])\n",
    "roc_by_gene_eve_av = roc_by_gene_eve_av.sort_values('Global_AUROC', ascending = False).round(4)\n",
    "\n",
    "# Transpose the dataframe\n",
    "roc_by_gene_eve_av = roc_by_gene_eve_av.transpose()\n",
    "\n",
    "roc_by_gene_eve_av.iloc[:2, :]"
   ]
  },
  {
   "cell_type": "code",
   "execution_count": 53,
   "id": "c5d3b3b9-2f68-4701-8624-c9507d27ba2c",
   "metadata": {},
   "outputs": [
    {
     "data": {
      "image/png": "[encoded data removed]",
      "text/plain": [
       "<Figure size 1800x400 with 2 Axes>"
      ]
     },
     "metadata": {},
     "output_type": "display_data"
    }
   ],
   "source": [
    "# Figure: Cross-gene imputation of EVE scores improves performance\n",
    "auroc_g_na = roc_by_gene_eve_na.loc['Global_AUROC', \n",
    "                                    ['Transfer_xgi_model', 'Transfer', 'Transfer_no_eve_related', 'esm_1v', 'EVE_scores_ASM']].to_list()\n",
    "auroc_p_na = roc_by_gene_eve_na.loc['Avg_per_gene_AUROC', \n",
    "                                    ['Transfer_xgi_model', 'Transfer', 'Transfer_no_eve_related', 'esm_1v', 'EVE_scores_ASM']].to_list()\n",
    "auroc_g_av = roc_by_gene_eve_av.loc['Global_AUROC', \n",
    "                                    ['Transfer', 'Transfer_eve_imputed_xgi_model', 'Transfer_eve_imputed', 'Transfer_no_eve_related', 'ESM-1v', 'EVE', 'EVE_imputed']].to_list()\n",
    "auroc_p_av = roc_by_gene_eve_av.loc['Avg_per_gene_AUROC', \n",
    "                                    ['Transfer', 'Transfer_eve_imputed_xgi_model', 'Transfer_eve_imputed', 'Transfer_no_eve_related', 'ESM-1v', 'EVE', 'EVE_imputed']].to_list()\n",
    "bars_na = ['CPT-ie with imputed EVE', 'CPT-1 with imputed EVE', 'CPT-ne w/o EVE', 'ESM-1v', 'EVE imputed']\n",
    "bars_av = ['CPT-1 with true EVE', 'CPT-ie with imputed EVE', 'CPT-1 with imputed EVE', 'CPT-ne w/o EVE', 'ESM-1v', 'EVE true', 'EVE imputed']\n",
    "x_pos_na = np.arange(len(bars_na))\n",
    "x_pos_av = np.arange(len(bars_av))\n",
    "width = 0.4\n",
    "\n",
    "fig, axes = plt.subplots(1, 2, figsize=(18, 4), gridspec_kw={'width_ratios': [2, 3]})\n",
    "rects_g_na = axes[0].bar(x_pos_na - width/2, auroc_g_na, width, label = 'Global AUROC')\n",
    "rects_p_na = axes[0].bar(x_pos_na + width/2, auroc_p_na, width, label = 'Avg per gene AUROC')\n",
    "rects_g_av = axes[1].bar(x_pos_av - width/2, auroc_g_av, width, label = 'Global AUROC')\n",
    "rects_p_av = axes[1].bar(x_pos_av + width/2, auroc_p_av, width, label = 'Avg per gene AUROC')\n",
    "\n",
    "axes[0].bar_label(rects_g_na, labels=[f'{x:,.3f}' for x in rects_g_na.datavalues], padding = 5)\n",
    "axes[0].bar_label(rects_p_na, labels=[f'{x:,.3f}' for x in rects_p_na.datavalues], padding = 5)\n",
    "axes[1].bar_label(rects_g_av, labels=[f'{x:,.3f}' for x in rects_g_av.datavalues], padding = 5)\n",
    "axes[1].bar_label(rects_p_av, labels=[f'{x:,.3f}' for x in rects_p_av.datavalues], padding = 5)\n",
    "\n",
    "axes[0].set_xticks(x_pos_na)\n",
    "axes[0].set_xticklabels(bars_na, rotation = 30, ha=\"right\")\n",
    "axes[1].set_xticks(x_pos_av)\n",
    "axes[1].set_xticklabels(bars_av, rotation = 30, ha=\"right\")\n",
    "\n",
    "axes[0].set_ylim(0.755, 0.945)\n",
    "axes[1].set_ylim(0.755, 0.945)\n",
    "\n",
    "axes[0].title.set_text('ClinVar variants with no EVE scores') # 6566\n",
    "axes[1].title.set_text('ClinVar variants with available EVE scores') # 45751\n",
    "\n",
    "plt.legend(bbox_to_anchor=(1, 0.65))\n",
    "plt.xlabel('')\n",
    "plt.show()"
   ]
  },
  {
   "cell_type": "markdown",
   "id": "ffc6128a-20be-4f48-bae8-1a4777bfb0d3",
   "metadata": {},
   "source": [
    "### Baseline performance with no supervision on DMS"
   ]
  },
  {
   "cell_type": "code",
   "execution_count": 54,
   "id": "60c7868e-afbb-486e-93ff-5b92a2a40333",
   "metadata": {},
   "outputs": [
    {
     "name": "stdout",
     "output_type": "stream",
     "text": [
      "Loaded 785 positive variants and 785 negative variants in CALM1\n",
      "Loaded 1370 positive variants and 1370 negative variants in TPK1\n",
      "Loaded 4769 positive variants and 4779 negative variants in MTHR\n",
      "Loaded 720 positive variants and 721 negative variants in SUMO1\n",
      "Loaded 1088 positive variants and 1089 negative variants in UBC9\n"
     ]
    }
   ],
   "source": [
    "# Reload data\n",
    "feat_mat, label = load_data(all_genes, binarize = True)"
   ]
  },
  {
   "cell_type": "code",
   "execution_count": 55,
   "id": "a90f1060",
   "metadata": {},
   "outputs": [],
   "source": [
    "# Remove columns that will disrupt quantile normalization\n",
    "x = x.drop(['100v_na', '30m_na', 'eve_na'], axis = 1)"
   ]
  },
  {
   "cell_type": "code",
   "execution_count": 56,
   "id": "9551c178-3b10-4225-93b2-eb3db7179897",
   "metadata": {},
   "outputs": [
    {
     "name": "stdout",
     "output_type": "stream",
     "text": [
      "AUROC by averaging quantile normalized esm-1v and EVE\n",
      "274 genes used to calculate per gene AUROC out of 1298 genes\n",
      "Calculating...\n"
     ]
    },
    {
     "name": "stderr",
     "output_type": "stream",
     "text": [
      "100%|██████████| 274/274 [00:00<00:00, 436.81it/s]\n"
     ]
    },
    {
     "name": "stdout",
     "output_type": "stream",
     "text": [
      "AUROC by averaging quantile normalized selected features\n",
      "274 genes used to calculate per gene AUROC out of 1298 genes\n",
      "Calculating...\n"
     ]
    },
    {
     "name": "stderr",
     "output_type": "stream",
     "text": [
      "100%|██████████| 274/274 [00:00<00:00, 497.51it/s]\n"
     ]
    },
    {
     "name": "stdout",
     "output_type": "stream",
     "text": [
      "AUROC by fitting transfer model with only esm-1v and EVE\n",
      "274 genes used to calculate per gene AUROC out of 1298 genes\n",
      "Calculating...\n"
     ]
    },
    {
     "name": "stderr",
     "output_type": "stream",
     "text": [
      "100%|██████████| 274/274 [00:00<00:00, 572.95it/s]\n"
     ]
    },
    {
     "name": "stdout",
     "output_type": "stream",
     "text": [
      "AUROC by averaging quantile normalized random features\n"
     ]
    },
    {
     "name": "stderr",
     "output_type": "stream",
     "text": [
      "100%|██████████| 100/100 [00:01<00:00, 52.21it/s]\n"
     ]
    },
    {
     "name": "stdout",
     "output_type": "stream",
     "text": [
      "274 genes used to calculate per gene AUROC out of 1298 genes\n",
      "Calculating...\n"
     ]
    },
    {
     "name": "stderr",
     "output_type": "stream",
     "text": [
      "100%|██████████| 274/274 [00:30<00:00,  8.98it/s]\n"
     ]
    },
    {
     "data": {
      "image/png": "[encoded data removed]",
      "text/plain": [
       "<Figure size 640x480 with 1 Axes>"
      ]
     },
     "metadata": {},
     "output_type": "display_data"
    }
   ],
   "source": [
    "# Figure: baseline performance by averaging quantile normalized features\n",
    "# Quantile normalize the features\n",
    "# https://stackoverflow.com/questions/37935920/quantile-normalization-on-pandas-dataframe\n",
    "rank_mean = x.stack().groupby(x.rank(method='first').stack().astype(int)).mean()\n",
    "x_qnorm = x.rank(method='min').stack().astype(int).map(rank_mean).unstack()\n",
    "\n",
    "# Get global and per gene auroc for avg 2 models and avg selected features\n",
    "pred = pd.DataFrame(index = x.index)\n",
    "pred['avg_2models'] = (-x_qnorm['esm_1v'] + x_qnorm['EVE_scores_ASM']) / 2\n",
    "pred['avg_feat_selected'] = (x_qnorm[list(set(feat_selected_dms).intersection(set(pos_feats)))].sum(axis = 1) -\n",
    "                             x_qnorm[list(set(feat_selected_dms).intersection(set(neg_feats)))].sum(axis = 1)\n",
    "                            ) / len(feat_selected_dms)\n",
    "cpt = CPTClassifier()\n",
    "cpt.train(feat_mat, label, all_genes, ['esm_1v', 'EVE_scores_ASM'])\n",
    "pred_clinvar = cpt.predict(x[['esm_1v', 'EVE_scores_ASM']])\n",
    "pred['transfer_2models'] = 1 - pred_clinvar.values\n",
    "\n",
    "print('AUROC by averaging quantile normalized esm-1v and EVE')\n",
    "g_auroc_avg_2models = roc_auc_score(y, pred['avg_2models'])\n",
    "p_auroc_avg_2models = get_per_gene_auroc(y, pred[['avg_2models']]).iloc[-1, 0]\n",
    "\n",
    "print('AUROC by averaging quantile normalized selected features')\n",
    "g_auroc_avg_feat_selected = roc_auc_score(y, pred['avg_feat_selected'])\n",
    "p_auroc_avg_feat_selected = get_per_gene_auroc(y, pred[['avg_feat_selected']]).iloc[-1, 0]\n",
    "\n",
    "print('AUROC by fitting transfer model with only esm-1v and EVE')\n",
    "g_auroc_transfer_2models = roc_auc_score(y, pred['transfer_2models'])\n",
    "p_auroc_transfer_2models = get_per_gene_auroc(y, pred[['transfer_2models']]).iloc[-1, 0]\n",
    "\n",
    "\n",
    "# Get global AUROC for avg randomly selected features\n",
    "print('AUROC by averaging quantile normalized random features')\n",
    "g_auroc_rand_feat = []\n",
    "pred_rand_feat = pd.DataFrame(index = x.index)\n",
    "for i in tqdm(range(100)):\n",
    "    feat_random = random_feat_by_category(i)\n",
    "    pred_rand_feat[i] = (x_qnorm[list(set(feat_random).intersection(set(pos_feats)))].sum(axis = 1) - \n",
    "                         x_qnorm[list(set(feat_random).intersection(set(neg_feats)))].sum(axis = 1)\n",
    "                        ) / len(feat_random)\n",
    "    g_auroc_rand_feat.append(roc_auc_score(y, pred_rand_feat[i]))\n",
    "    \n",
    "# Get per gene AUROC for avg randomly selected features\n",
    "p_auroc_rand_feat = get_per_gene_auroc(y, pred_rand_feat).iloc[3:, 0]\n",
    "\n",
    "# Plot\n",
    "auroc_global = [roc_by_gene.loc['Global_AUROC', 'Transfer'], \n",
    "                g_auroc_avg_feat_selected, \n",
    "                pd.Series(g_auroc_rand_feat).mean(), \n",
    "                g_auroc_transfer_2models,\n",
    "                g_auroc_avg_2models]\n",
    "auroc_avg_per_gene = [roc_by_gene.loc['Avg_per_gene_AUROC', 'Transfer'], \n",
    "                      p_auroc_avg_feat_selected, \n",
    "                      pd.Series(p_auroc_rand_feat).mean(), \n",
    "                      p_auroc_transfer_2models,\n",
    "                      p_auroc_avg_2models]\n",
    "bars = ['Transfer model', 'Averaging features selected on DMS', 'Averaging features randomly selected',\n",
    "        'Transfer model with ESM-1v and EVE', 'Averaging ESM-1v and EVE']\n",
    "err_global = [0, 0, pd.Series(g_auroc_rand_feat).std(), 0, 0]\n",
    "err_avg_per_gene = [0, 0, pd.Series(p_auroc_rand_feat).std(), 0, 0]\n",
    "y_pos = np.arange(len(bars))\n",
    "width = 0.4\n",
    "\n",
    "fig, ax = plt.subplots()\n",
    "rects_g = ax.barh(y_pos - width/2, auroc_global, width, xerr = err_global, label = 'Global AUROC')\n",
    "rects_p = ax.barh(y_pos + width/2, auroc_avg_per_gene, width, xerr = err_avg_per_gene, label = 'Avg per gene AUROC')\n",
    "\n",
    "ax.bar_label(rects_g, labels=[f'{x:,.3f}' for x in rects_g.datavalues], padding = 5)\n",
    "ax.bar_label(rects_p, labels=[f'{x:,.3f}' for x in rects_p.datavalues], padding = 5)\n",
    "\n",
    "plt.legend(bbox_to_anchor=(1, 0.65))\n",
    "plt.yticks(y_pos, bars)\n",
    "plt.xlim(0.5, 1)\n",
    "plt.rcParams[\"figure.figsize\"] = (5,4)\n",
    "plt.show()"
   ]
  },
  {
   "cell_type": "markdown",
   "id": "fb729a11-6fb0-4da0-8757-ff7db7875430",
   "metadata": {},
   "source": [
    "### Analyze human beneficial adaptation variants"
   ]
  },
  {
   "cell_type": "code",
   "execution_count": 59,
   "id": "941e55ab-35c1-4940-afb3-ee6f49db8e18",
   "metadata": {},
   "outputs": [
    {
     "data": {
      "image/png": "[encoded data removed]",
      "text/plain": [
       "<Figure size 1000x400 with 2 Axes>"
      ]
     },
     "metadata": {},
     "output_type": "display_data"
    },
    {
     "data": {
      "image/png": "[encoded data removed]",
      "text/plain": [
       "<Figure size 1000x400 with 2 Axes>"
      ]
     },
     "metadata": {},
     "output_type": "display_data"
    }
   ],
   "source": [
    "# Figure: ancestral alleles of human beneficial adaptation variants\n",
    "ancestral_x = pd.read_csv('./data/ancestral_x_knn10.csv')\n",
    "ancestral_x = ancestral_x.set_index('mutant')\n",
    "\n",
    "# Get predictions\n",
    "features = feat_selected_dms\n",
    "\n",
    "cpt.train(feat_mat, label, all_genes, features)\n",
    "pred_clinvar = cpt.predict(x[features])\n",
    "pred_ancestral = cpt.predict(ancestral_x[features])\n",
    "\n",
    "df_ps = pd.concat([x[['esm_1v']], ancestral_x[['esm_1v']]])\n",
    "df_ps['transfer model'] = logit(1 - pd.concat([pred_clinvar, pred_ancestral]).values)\n",
    "df_ps['variant class'] = pd.concat([y.iloc[:, 0].map({1.0: 'ClinVar pathogenic', 0.0: 'ClinVar benign'}),\n",
    "                                    pd.Series('Ancestral alleles at nearly fixed sites', index = ancestral_x.index)])\n",
    "df_ps.columns = ['ESM-1v scores', 'Logit CPT-1 predictions', 'Variant class']\n",
    "df_ps['Log 100vertebrates mutant frequency'] = pd.concat([x[['100verte_mut_freq']], ancestral_x[['100verte_mut_freq']]])\n",
    "df_ps['Log 30mammals mutant frequency'] = pd.concat([x[['30mammal_mut_freq']], ancestral_x[['30mammal_mut_freq']]])\n",
    "\n",
    "# Plot\n",
    "fig, axes = plt.subplots(1, 2, figsize=(10, 4))\n",
    "sns.histplot(ax = axes[0], data = df_ps.reset_index(), x = \"ESM-1v scores\", \n",
    "             hue = \"Variant class\", stat = \"density\", common_norm = False)\n",
    "sns.histplot(ax = axes[1], data = df_ps.reset_index(), x = \"Logit CPT-1 predictions\", \n",
    "             hue = \"Variant class\", stat = \"density\", common_norm = False)\n",
    "sns.move_legend(axes[0], \"upper left\", bbox_to_anchor=(0.65, 1.35))\n",
    "axes[1].legend([],[], frameon=False)\n",
    "plt.show()\n",
    "\n",
    "fig, axes = plt.subplots(1, 2, figsize=(10, 4))\n",
    "sns.histplot(ax = axes[0], data = df_ps.reset_index(), x = \"Log 100vertebrates mutant frequency\", \n",
    "             hue = \"Variant class\", stat = \"density\", common_norm = False, bins = 50)\n",
    "sns.histplot(ax = axes[1], data = df_ps.reset_index(), x = \"Log 30mammals mutant frequency\", \n",
    "             hue = \"Variant class\", stat = \"density\", common_norm = False, bins = 50)\n",
    "sns.move_legend(axes[0], \"upper left\", bbox_to_anchor=(0.65, 1.35))\n",
    "axes[1].legend([],[], frameon=False)\n",
    "plt.show()"
   ]
  },
  {
   "cell_type": "code",
   "execution_count": null,
   "id": "25074c46-b9b4-4f4e-81a5-0874dc3707a3",
   "metadata": {},
   "outputs": [],
   "source": []
  }
 ],
 "metadata": {
  "kernelspec": {
   "display_name": "Python 3",
   "language": "python",
   "name": "python3"
  },
  "language_info": {
   "codemirror_mode": {
    "name": "ipython",
    "version": 3
   },
   "file_extension": ".py",
   "mimetype": "text/x-python",
   "name": "python",
   "nbconvert_exporter": "python",
   "pygments_lexer": "ipython3",
   "version": "3.10.10"
  },
  "vscode": {
   "interpreter": {
    "hash": "949777d72b0d2535278d3dc13498b2535136f6dfe0678499012e853ee9abcab1"
   }
  }
 },
 "nbformat": 4,
 "nbformat_minor": 5
}
